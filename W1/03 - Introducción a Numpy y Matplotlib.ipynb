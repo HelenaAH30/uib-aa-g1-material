{
 "cells": [
  {
   "cell_type": "markdown",
   "metadata": {},
   "source": [
    "# Introducción a Numpy y Matplotlib"
   ]
  },
  {
   "cell_type": "markdown",
   "metadata": {},
   "source": [
    "![img/3-numpy/numpy_logo.jpg](img/3-numpy/numpy_logo.jpg)\n",
    "\n",
    "# Que es numpy?\n",
    "\n",
    "En la sesión anterior vimos que una de las estrucutras de datos fundamentales en python son las listas. A pesar de ser un elemento muy útil en el mundo de la programación, esta estructura de datos es ineficiente cuando queremos considerar estas listas como vectores.\n",
    "\n",
    "Por ejemplo,\n",
    "\n",
    "```python\n",
    "\n",
    "lista_1 = [1, 2, 3]\n",
    "lista_2 = [2, 3, 4]\n",
    "\n",
    "suma_lista_1_2 = lista_1 + lista_2\n",
    "\n",
    "print(suma_lista)\n",
    "\n",
    "# output\n",
    "[1, 2, 3, 2, 3, 4]\n",
    "```\n",
    "\n",
    "Si quisieramos sumar elemento a elemento, deberíamos crearnos una función con bucles que nos devolviese el vector resultante."
   ]
  },
  {
   "cell_type": "code",
   "execution_count": 1,
   "metadata": {},
   "outputs": [],
   "source": [
    "## Escribe una función que dadas dos listas nos\n",
    "## devuelva la suma elemento a elemento.\n",
    "## Ojo! Acuerdate de comprobar que son del mismo tamaño!\n",
    "\n",
    "def suma_dos_listas_elemento_a_elemento(a, b):\n",
    "    \"\"\"\n",
    "    Suma las dos listas a y b\n",
    "    \"\"\"\n",
    "    suma = []\n",
    "    if len(a) == len(b):\n",
    "        for idx in range(len(a)):\n",
    "            suma.append(a[idx] + b[idx])\n",
    "        \n",
    "    else:\n",
    "        print( \"el tamaño de las listas debería ser el mismo\")\n",
    "    return suma\n",
    "            \n",
    "\n",
    "##Extra: Echale un vistazo a la funcion zip() de python.\n",
    "##Usando zip y las list comprehensions podemos reescribir\n",
    "##la función en una linea de forma pythonica!\n"
   ]
  },
  {
   "cell_type": "code",
   "execution_count": 2,
   "metadata": {},
   "outputs": [],
   "source": [
    "a = [1, 2, 3] * 100000\n",
    "b = [2, 3, 4] * 100000"
   ]
  },
  {
   "cell_type": "code",
   "execution_count": 3,
   "metadata": {},
   "outputs": [
    {
     "name": "stdout",
     "output_type": "stream",
     "text": [
      "56.8 ms ± 2.62 ms per loop (mean ± std. dev. of 7 runs, 10 loops each)\n"
     ]
    }
   ],
   "source": [
    "%timeit suma_a_b = suma_dos_listas_elemento_a_elemento(a, b)"
   ]
  },
  {
   "cell_type": "code",
   "execution_count": 4,
   "metadata": {},
   "outputs": [],
   "source": [
    "suma_a_b = suma_dos_listas_elemento_a_elemento(a, b)"
   ]
  },
  {
   "cell_type": "code",
   "execution_count": 6,
   "metadata": {},
   "outputs": [
    {
     "name": "stdout",
     "output_type": "stream",
     "text": [
      "22.4 ms ± 682 µs per loop (mean ± std. dev. of 7 runs, 10 loops each)\n"
     ]
    }
   ],
   "source": [
    "%timeit [x + y for x, y  in zip(a,b)]"
   ]
  },
  {
   "cell_type": "markdown",
   "metadata": {},
   "source": [
    "Como veis en el ejemplo anterior, no solo es innecesariamente complicado si no que es ineficiente cuando queremos tratar con vectores de gran tamaño. Sería conveniente tener operaciones definidas para este tipo de problemas.\n",
    "\n",
    "Eso es exactamente lo que hace **Numpy**. Interpreta las listas como vectores numéricos y nos permite realizar operaciones de algebra lineal de forma eficiente.\n",
    "\n",
    "Por si no fuera poco, **Numpy** está escrito en **C**, uno de los lenguajes de programación más [rápidos](https://attractivechaos.github.io/plb/). Además de proporcionarnos velocidad a la hora de realizar cálculos algebráicos, sirve cómo interfaz para comunicarse con funcionalidades escritas en **C** y en **Fortran**. Ésta es la razón principal por la **Numpy** nos importa cómo analistas o cientificos de datos, aunque no trabajemos directamente en algebra: los principales módulos para el análisis de datos (pandas y sklearn) se basan en **Numpy**, por lo que entender su estructura y uso nos facilitara la comprensión de las librerias de más alto nivel.\n",
    "\n"
   ]
  },
  {
   "cell_type": "code",
   "execution_count": 7,
   "metadata": {},
   "outputs": [],
   "source": [
    "## importar numpy bajo el alias np\n",
    "\n",
    "import numpy as np"
   ]
  },
  {
   "cell_type": "markdown",
   "metadata": {},
   "source": [
    "## `np.array` y `np.ndarray`\n",
    "\n",
    "### `np.ndarray`\n",
    "\n",
    "De la [documentación](https://docs.scipy.org/doc/numpy-1.13.0/reference/arrays.html) oficial:\n",
    "\n",
    ">  Describes an N-dimensional collection of “items” of the same type.\n",
    "\n",
    "### `np.array`\n",
    "\n",
    "Es un metodo de numpy que nos permite crear np.ndarray\n"
   ]
  },
  {
   "cell_type": "markdown",
   "metadata": {},
   "source": [
    "### Crear un array a partir de listas\n",
    "\n",
    "Para crear un array a partir de una lista, simplemente debemos pasar la lista como argumento a la función np.array()\n",
    "\n",
    "```python\n",
    "\n",
    "mi_lista = [1, 2, 3]\n",
    "\n",
    "mi_array = np.array(mi_lista)\n",
    "\n",
    "print(type(mi_array))\n",
    "```\n",
    "\n",
    "También, podemos crear un array a partir de una lista de listas.\n",
    "\n",
    "```python\n",
    "\n",
    "mi_lista_anidada = [[1, 2, 3],\n",
    "                    [4, 5, 6]]\n",
    "\n",
    "mi_array_2d = np.array(mi_lista_anidada)\n",
    "```\n",
    "                   "
   ]
  },
  {
   "cell_type": "code",
   "execution_count": 8,
   "metadata": {},
   "outputs": [],
   "source": [
    "## Crea un ndarray a partir de una lista anidada\n",
    "mi_lista = [1, 2, 3]\n",
    "\n",
    "mi_lista_anidada = [[1, 2, 3],\n",
    "                    [4, 5, 6]]\n",
    "\n",
    "array_1D = np.array(mi_lista)\n",
    "\n",
    "array_2D = np.array(mi_lista_anidada)"
   ]
  },
  {
   "cell_type": "code",
   "execution_count": 10,
   "metadata": {},
   "outputs": [
    {
     "data": {
      "text/plain": [
       "array([[1, 2, 3],\n",
       "       [4, 5, 6]])"
      ]
     },
     "execution_count": 10,
     "metadata": {},
     "output_type": "execute_result"
    }
   ],
   "source": [
    "array_2D"
   ]
  },
  {
   "cell_type": "markdown",
   "metadata": {},
   "source": [
    "## Atributos de np.ndarray\n",
    "\n",
    "Cada array tiene los atributos:\n",
    "\n",
    "* `ndim`: el número de dimensionesthe number of dimensiones\n",
    "* `shape`: el tamaño de cada dimensión\n",
    "* `size`: el tamaño total del array"
   ]
  },
  {
   "cell_type": "code",
   "execution_count": 14,
   "metadata": {},
   "outputs": [
    {
     "data": {
      "text/plain": [
       "(2, 3)"
      ]
     },
     "execution_count": 14,
     "metadata": {},
     "output_type": "execute_result"
    }
   ],
   "source": [
    "## Comprueba los atributos del array creado antes\n",
    "\n",
    "array_2D.shape"
   ]
  },
  {
   "cell_type": "markdown",
   "metadata": {},
   "source": [
    "## Arrays de números aleatorios\n",
    "\n",
    "Numpy tiene una funcionalidad muy útil para generar datos de forma aleatoria o siguiendo alguna distribución estadística.\n",
    "\n",
    "```python\n",
    "gauss_dist = np.random.normal(loc=0,\n",
    "                              scale=1,\n",
    "                              size=(1000, 2))\n",
    "```"
   ]
  },
  {
   "cell_type": "code",
   "execution_count": 30,
   "metadata": {},
   "outputs": [],
   "source": [
    "## inicializar un vector aleatorio de enteros\n",
    "np.random.seed(42)  # semilla for reproducibility\n",
    "\n",
    "x1 = np.random.randint(10, size=(6,))# One-dimensional array\n",
    "x2 = np.random.randint(10, size=(2, 4))# Two-dimensional array"
   ]
  },
  {
   "cell_type": "code",
   "execution_count": 31,
   "metadata": {},
   "outputs": [
    {
     "data": {
      "text/plain": [
       "array([6, 3, 7, 4, 6, 9])"
      ]
     },
     "execution_count": 31,
     "metadata": {},
     "output_type": "execute_result"
    }
   ],
   "source": [
    "x1"
   ]
  },
  {
   "cell_type": "code",
   "execution_count": 32,
   "metadata": {},
   "outputs": [
    {
     "data": {
      "text/plain": [
       "array([[2, 6, 7, 4],\n",
       "       [3, 7, 7, 2]])"
      ]
     },
     "execution_count": 32,
     "metadata": {},
     "output_type": "execute_result"
    }
   ],
   "source": [
    "x2"
   ]
  },
  {
   "cell_type": "code",
   "execution_count": null,
   "metadata": {},
   "outputs": [],
   "source": [
    "## crea un array de 200 filas y 3 columnas aleatorio que siga una distribución\n",
    "## de poisson\n",
    "\n",
    "x_pois = np.random.###(lam=2., size=(###, ###))"
   ]
  },
  {
   "cell_type": "code",
   "execution_count": null,
   "metadata": {
    "scrolled": true
   },
   "outputs": [],
   "source": [
    "x_pois"
   ]
  },
  {
   "cell_type": "markdown",
   "metadata": {},
   "source": [
    "## Indexing\n",
    "Sigue un patron similar a las listas de python.\n",
    "\n",
    "Para acceder al $i^{th}$ elemento de una array 1-dimensional se sigue la sintaxis de braquets.\n",
    "\n",
    "Para acceder al $i^{th}$ elemento de una array 2-dimensional se sigue la sintaxis de braquets con los indices separados por comas."
   ]
  },
  {
   "cell_type": "code",
   "execution_count": 36,
   "metadata": {},
   "outputs": [
    {
     "name": "stdout",
     "output_type": "stream",
     "text": [
      "6\n",
      "7\n",
      "6\n"
     ]
    }
   ],
   "source": [
    "## accede al primer, tercer y quinto elemento de x1.\n",
    "print(x1[0])\n",
    "print(x1[2])\n",
    "print(x1[4])"
   ]
  },
  {
   "cell_type": "code",
   "execution_count": 37,
   "metadata": {},
   "outputs": [
    {
     "data": {
      "text/plain": [
       "6"
      ]
     },
     "execution_count": 37,
     "metadata": {},
     "output_type": "execute_result"
    }
   ],
   "source": [
    "## accede primer al elemento de la primera fila y segunda columna de x2\n",
    "x2[0,1]"
   ]
  },
  {
   "cell_type": "markdown",
   "metadata": {},
   "source": [
    "## Slicing\n",
    "\n",
    "De la misma forma que hacemos \"slices\" de listas en python podemos crearlos en los np.array.\n",
    "\n",
    "Además, podemos especificar un \"step\", que es la cantidad de elementos que se saltara entre uno y otro.\n",
    "\n",
    "\n",
    "x[start:stop:step]\n",
    "\n",
    "Si no se especifica alguno de ellos, numpy toma el valor por defecto, que son:\n",
    "\n",
    "* start=0\n",
    "* stop=tamaño de la dimensión\n",
    "* step=1"
   ]
  },
  {
   "cell_type": "code",
   "execution_count": 38,
   "metadata": {},
   "outputs": [
    {
     "data": {
      "text/plain": [
       "array([0, 1, 2, 3, 4, 5, 6, 7, 8, 9])"
      ]
     },
     "execution_count": 38,
     "metadata": {},
     "output_type": "execute_result"
    }
   ],
   "source": [
    "## Crea un array de una dimension con los numeros del 0 al 9 usando arange\n",
    "a = np.arange(10)\n",
    "a"
   ]
  },
  {
   "cell_type": "code",
   "execution_count": 39,
   "metadata": {},
   "outputs": [
    {
     "data": {
      "text/plain": [
       "array([0, 1, 2])"
      ]
     },
     "execution_count": 39,
     "metadata": {},
     "output_type": "execute_result"
    }
   ],
   "source": [
    "## Crea un slice que contenga los 3 primeros elementos\n",
    "a_3 = a[:3]\n",
    "a_3"
   ]
  },
  {
   "cell_type": "code",
   "execution_count": 40,
   "metadata": {},
   "outputs": [
    {
     "data": {
      "text/plain": [
       "array([8, 9])"
      ]
     },
     "execution_count": 40,
     "metadata": {},
     "output_type": "execute_result"
    }
   ],
   "source": [
    "## Crea un slice que contenga los 2 ultimos elementos\n",
    "a_last_2 = a[-2:]\n",
    "a_last_2"
   ]
  },
  {
   "cell_type": "code",
   "execution_count": 41,
   "metadata": {},
   "outputs": [
    {
     "data": {
      "text/plain": [
       "array([0, 2, 4])"
      ]
     },
     "execution_count": 41,
     "metadata": {},
     "output_type": "execute_result"
    }
   ],
   "source": [
    "## Crea un slice que contenga los 6 primeros elementos uno si y uno no\n",
    "a[:6:2]"
   ]
  },
  {
   "cell_type": "markdown",
   "metadata": {},
   "source": [
    "#### Ojo! si el paso es negativo los campos de start y stop se invierten. Es una forma muy conveniente de invertir el orden de un array"
   ]
  },
  {
   "cell_type": "code",
   "execution_count": 43,
   "metadata": {},
   "outputs": [
    {
     "name": "stdout",
     "output_type": "stream",
     "text": [
      "[0 1 2 3 4 5 6 7 8 9]\n"
     ]
    }
   ],
   "source": [
    "ordered = np.arange(10)\n",
    "print(ordered)"
   ]
  },
  {
   "cell_type": "code",
   "execution_count": 44,
   "metadata": {},
   "outputs": [
    {
     "name": "stdout",
     "output_type": "stream",
     "text": [
      "[9 8 7 6 5 4 3 2 1 0]\n"
     ]
    }
   ],
   "source": [
    "reverse_order = ordered[::-1] \n",
    "print(reverse_order)"
   ]
  },
  {
   "cell_type": "markdown",
   "metadata": {},
   "source": [
    "## Multidimensiones\n",
    "\n",
    "Hay que especificar el sub-slice en cada una de las dimensiones separados por coma en braquets\n",
    "\n",
    "\n",
    "```python\n",
    "\n",
    "x = np.array([[3, 5, 2, 4],\n",
    "              [7, 6, 8, 8],\n",
    "              [1, 6, 7, 7]])\n",
    "# columnas\n",
    "x[:, 2]\n",
    "# output\n",
    "array([2, 8, 7])\n",
    "\n",
    "# filas\n",
    "x[1, :]\n",
    "\n",
    "# output\n",
    "array([7, 6, 8, 8])\n",
    "```"
   ]
  },
  {
   "cell_type": "code",
   "execution_count": 47,
   "metadata": {},
   "outputs": [
    {
     "data": {
      "text/plain": [
       "array([3, 5, 2, 4])"
      ]
     },
     "execution_count": 47,
     "metadata": {},
     "output_type": "execute_result"
    }
   ],
   "source": [
    "## accede a la primera columna\n",
    "x = np.array([[3, 5, 2, 4],\n",
    "              [7, 6, 8, 8],\n",
    "              [1, 6, 7, 7]])\n",
    "\n",
    "x[0, :]"
   ]
  },
  {
   "cell_type": "code",
   "execution_count": null,
   "metadata": {},
   "outputs": [],
   "source": [
    "## accede a la segunda columna\n",
    "x[:, #]"
   ]
  },
  {
   "cell_type": "code",
   "execution_count": null,
   "metadata": {},
   "outputs": [],
   "source": [
    "## elimina la primera fila\n",
    "x[#:, :]"
   ]
  },
  {
   "cell_type": "markdown",
   "metadata": {},
   "source": [
    "## Expresiones matemáticas y funciones útiles\n",
    "\n",
    "Numpy permite evaluar expresiones matematicas y funciones de forma sencilla y eficiente.\n",
    "\n",
    "Por ejemplo:\n",
    "\n",
    "```python\n",
    "\n",
    "x = np.random.randint(10, size=20)\n",
    "\n",
    "add_5_element_wise = x + 5\n",
    "```\n",
    "\n",
    "Suma `5` a cada elemento del array. Esto funciona de forma similar para las funciones aritméticas básicas (+, -, \\*,...)"
   ]
  },
  {
   "cell_type": "code",
   "execution_count": null,
   "metadata": {},
   "outputs": [],
   "source": [
    "# crea un array aleatorio que elija entre tres números y multiplica cada uno de sus elementos por 3\n",
    "a =np.random.choice??"
   ]
  },
  {
   "cell_type": "code",
   "execution_count": 48,
   "metadata": {},
   "outputs": [],
   "source": [
    "a = np.random.choice(np.array([1, 2, 3]), size=(100,))"
   ]
  },
  {
   "cell_type": "code",
   "execution_count": 50,
   "metadata": {},
   "outputs": [
    {
     "data": {
      "text/plain": [
       "array([6, 3, 6, 6, 6, 6, 3, 3, 6, 6, 3, 3, 3, 9, 9, 9, 6, 9, 6, 6, 9, 6,\n",
       "       9, 9, 3, 9, 3, 9, 9, 3, 3, 9, 6, 3, 6, 6, 6, 3, 6, 3, 6, 9, 9, 3,\n",
       "       9, 9, 6, 3, 6, 6, 6, 6, 6, 6, 6, 3, 9, 6, 6, 6, 6, 6, 6, 9, 9, 6,\n",
       "       9, 3, 6, 3, 3, 6, 9, 3, 6, 3, 3, 3, 3, 9, 3, 3, 3, 9, 3, 3, 9, 9,\n",
       "       9, 3, 9, 9, 3, 9, 3, 6, 9, 6, 3, 9])"
      ]
     },
     "execution_count": 50,
     "metadata": {},
     "output_type": "execute_result"
    }
   ],
   "source": [
    "a * 3"
   ]
  },
  {
   "cell_type": "markdown",
   "metadata": {},
   "source": [
    "<font color=\"blue\"> que pasa si multiplicamos una lista por un entero ?"
   ]
  },
  {
   "cell_type": "markdown",
   "metadata": {},
   "source": [
    "### Funciones trigonométricas"
   ]
  },
  {
   "cell_type": "code",
   "execution_count": 53,
   "metadata": {},
   "outputs": [
    {
     "data": {
      "text/plain": [
       "array([ 0.        ,  3.14159265,  6.28318531,  9.42477796, 12.56637061])"
      ]
     },
     "execution_count": 53,
     "metadata": {},
     "output_type": "execute_result"
    }
   ],
   "source": [
    "# Crea un vector de 5 elementos espaciados de forma homogenea\n",
    "# entre 0 y pi, ambos incluidos\n",
    "x = np.linspace(0, 4*np.pi, 5)\n",
    "x"
   ]
  },
  {
   "cell_type": "code",
   "execution_count": 55,
   "metadata": {},
   "outputs": [
    {
     "name": "stdout",
     "output_type": "stream",
     "text": [
      "[ 0.          3.14159265  6.28318531  9.42477796 12.56637061]\n",
      "[ 0.0000000e+00  1.2246468e-16 -2.4492936e-16  3.6739404e-16\n",
      " -4.8985872e-16]\n"
     ]
    }
   ],
   "source": [
    "print(x)\n",
    "sin_x = np.sin(x)\n",
    "print(sin_x)"
   ]
  },
  {
   "cell_type": "code",
   "execution_count": null,
   "metadata": {},
   "outputs": [],
   "source": [
    "# demuestra el teorema fundamental de la trigonometria\n",
    "\n",
    "sin_x = ##\n",
    "\n",
    "cos_x = ##\n",
    "\n",
    "trigo_101 = ##"
   ]
  },
  {
   "cell_type": "markdown",
   "metadata": {},
   "source": [
    "## Exponentes y logaritmos"
   ]
  },
  {
   "cell_type": "code",
   "execution_count": null,
   "metadata": {},
   "outputs": [],
   "source": [
    "import numpy as np"
   ]
  },
  {
   "cell_type": "code",
   "execution_count": 56,
   "metadata": {},
   "outputs": [
    {
     "name": "stdout",
     "output_type": "stream",
     "text": [
      "x     = [1, 2, 3]\n",
      "e^x   = [ 2.71828183  7.3890561  20.08553692]\n",
      "2^x   = [2. 4. 8.]\n",
      "3^x   = [ 3  9 27]\n"
     ]
    }
   ],
   "source": [
    "x = [1, 2, 3]\n",
    "print(\"x     =\", x)\n",
    "print(\"e^x   =\", np.exp(x))\n",
    "print(\"2^x   =\", np.exp2(x))\n",
    "print(\"3^x   =\", np.power(3, x))"
   ]
  },
  {
   "cell_type": "code",
   "execution_count": 57,
   "metadata": {},
   "outputs": [
    {
     "data": {
      "text/plain": [
       "array([ 1,  8, 27])"
      ]
     },
     "execution_count": 57,
     "metadata": {},
     "output_type": "execute_result"
    }
   ],
   "source": [
    "np.power(x, 3)"
   ]
  },
  {
   "cell_type": "code",
   "execution_count": 58,
   "metadata": {},
   "outputs": [
    {
     "name": "stdout",
     "output_type": "stream",
     "text": [
      "x        = [1, 2, 4, 10]\n",
      "ln(x)    = [0.         0.69314718 1.38629436 2.30258509]\n",
      "log2(x)  = [0.         1.         2.         3.32192809]\n",
      "log10(x) = [0.         0.30103    0.60205999 1.        ]\n"
     ]
    }
   ],
   "source": [
    "x = [1, 2, 4, 10]\n",
    "print(\"x        =\", x)\n",
    "print(\"ln(x)    =\", np.log(x))\n",
    "print(\"log2(x)  =\", np.log2(x))\n",
    "print(\"log10(x) =\", np.log10(x))"
   ]
  },
  {
   "cell_type": "markdown",
   "metadata": {},
   "source": [
    "Unas transformaciones muy útiles cuando lidiamos con valores pequeños son:"
   ]
  },
  {
   "cell_type": "code",
   "execution_count": 59,
   "metadata": {},
   "outputs": [
    {
     "name": "stdout",
     "output_type": "stream",
     "text": [
      "exp(x) - 1 = [0.         0.0010005  0.01005017 0.10517092]\n",
      "log(1 + x) = [0.         0.0009995  0.00995033 0.09531018]\n"
     ]
    }
   ],
   "source": [
    "x = [0, 0.001, 0.01, 0.1]\n",
    "print(\"exp(x) - 1 =\", np.expm1(x))\n",
    "print(\"log(1 + x) =\", np.log1p(x))"
   ]
  },
  {
   "cell_type": "markdown",
   "metadata": {},
   "source": [
    "# Funciones estadísticas integradas\n",
    "\n",
    "Numpy permite calcular de forma rápida parametros estadisticos y otras aggregaciones sobre un array"
   ]
  },
  {
   "cell_type": "code",
   "execution_count": 66,
   "metadata": {},
   "outputs": [],
   "source": [
    "# suma de todos los elementos\n",
    "x = np.arange(10)"
   ]
  },
  {
   "cell_type": "code",
   "execution_count": 67,
   "metadata": {},
   "outputs": [
    {
     "data": {
      "text/plain": [
       "array([ 0,  1,  3,  6, 10, 15, 21, 28, 36, 45])"
      ]
     },
     "execution_count": 67,
     "metadata": {},
     "output_type": "execute_result"
    }
   ],
   "source": [
    "x.cumsum()"
   ]
  },
  {
   "cell_type": "code",
   "execution_count": 61,
   "metadata": {},
   "outputs": [
    {
     "name": "stdout",
     "output_type": "stream",
     "text": [
      "mean: 4.5\n",
      "std: 2.8722813232690143\n"
     ]
    }
   ],
   "source": [
    "# media y desviación estandar\n",
    "\n",
    "print('mean:', x.mean())\n",
    "print('std:', x.std())"
   ]
  },
  {
   "cell_type": "code",
   "execution_count": null,
   "metadata": {},
   "outputs": [],
   "source": [
    "# percentiles\n",
    "np.percentile(x, 50)"
   ]
  },
  {
   "cell_type": "code",
   "execution_count": null,
   "metadata": {},
   "outputs": [],
   "source": [
    "# la suma acumulada de los valores\n",
    "print(x)\n",
    "print(x.cumsum())"
   ]
  },
  {
   "cell_type": "markdown",
   "metadata": {},
   "source": [
    "### Ejercicios\n",
    "\n",
    "Utiliza el cheatsheet disponible o busca las funcionalidades pertinentes\n",
    "\n",
    "1. Crea una matriz identidad de $4 \\times 4$\n",
    "2. Genera el array siguiente sin crear la lista\n",
    "```\n",
    "1 2 3\n",
    "4 5 6\n",
    "7 8 9\n",
    "```\n",
    "3. Genera una matrix aleatoria de $4 \\times 4 \\times 4$ con números distribuidos siguiendo una gaussiana\n",
    "4. Genear `n` intervalos entre 0 and 1 distribuidos de forma logarítmica"
   ]
  },
  {
   "cell_type": "markdown",
   "metadata": {},
   "source": [
    "# Matplotlib\n",
    "\n",
    "![img/3-numpy/matplotlib-logo.png](img/3-numpy/matplotlib-logo.png)\n",
    "\n",
    "*Matplotlib* permite graficar cosas. ```pyplot``` es una capa que dota a la librería de una sintaxis similar a la de MATLAB.\n",
    "\n",
    "Se complementa a la perfección con [seaborn](http://seaborn.pydata.org/), que nos permitirá hacer además gráficos estadísticos.\n",
    "\n",
    "En conjunto, son un duo muy potente que permite hacer cosas como ésta [código fuente](http://seaborn.pydata.org/examples/structured_heatmap.html):\n",
    "\n",
    "<img src='img/3-numpy/structured_heatmap.png' width=500>\n",
    "\n",
    "A medida que vayamos avanzando entraremos en más detalle sobre los diferentes tipos de gráficos. Por ahora, nos limitaremos a hablar sobre los básicos:\n",
    "\n",
    "- Lineas\n",
    "- Barras e Histogramas\n",
    "- Scatter plots"
   ]
  },
  {
   "cell_type": "code",
   "execution_count": 68,
   "metadata": {},
   "outputs": [],
   "source": [
    "%matplotlib inline\n",
    "\n",
    "import matplotlib.pyplot as plt\n",
    "import seaborn as sns\n",
    "\n",
    "sns.set_context('talk')"
   ]
  },
  {
   "cell_type": "markdown",
   "metadata": {},
   "source": [
    "# Line plot example\n",
    "\n",
    "Matplotlib puede crear graficos X-Y basicos a partir de arrays o listas del mismo tamaño. Si solo le diesemos una lista o array, la graficaría contra su indice.\n",
    "\n",
    "Cada vez que llamamos a plt.plot() nos sobrepone una nueva curva en la misma figura. Si quisieramos una nueva, deberíamos especificar 'plt.figure()' para crear una nueva."
   ]
  },
  {
   "cell_type": "code",
   "execution_count": 72,
   "metadata": {},
   "outputs": [
    {
     "data": {
      "text/plain": [
       "array([[ 0.74930242,  0.03201447,  1.68900294,  0.14858427, -1.23700082,\n",
       "         0.20731076, -2.40253103, -2.02396216, -2.13128816, -2.86724008,\n",
       "        -3.06717993, -3.91470342, -2.37244747, -0.56795038, -1.25368797,\n",
       "        -0.97816309, -2.30323956, -1.23018741, -0.18317823, -0.47844046,\n",
       "        -0.46155541, -0.55532085, -2.17377869, -0.62777454, -1.39472778,\n",
       "        -2.15487705, -2.30529691, -1.30974832, -1.90105154, -3.85323676,\n",
       "        -4.74023482, -4.3160944 , -2.12634411, -3.38626408, -4.68276585,\n",
       "        -6.19536135, -7.83208634, -6.62639488, -5.1317063 , -4.95395041,\n",
       "        -5.42166318, -3.63051939, -3.45661135, -2.36717464, -2.88362358,\n",
       "        -2.83937973, -4.07672138, -3.4474724 , -3.25653465, -4.15109789,\n",
       "        -5.03220503, -3.41624653, -1.44457778, -1.65771312, -1.58995955,\n",
       "        -1.18984507, -1.04181331, -2.71611103, -2.28824036, -4.37612939,\n",
       "        -5.10881358, -4.60338643, -4.00339223, -4.81346531, -5.27190225,\n",
       "        -5.86573876, -5.96858292, -5.99537727, -5.32690914, -5.843806  ,\n",
       "        -5.47040981, -4.96339405, -4.76510467, -5.02471049, -4.84406503,\n",
       "        -4.09232475, -3.25313989, -1.4377672 , -2.42779344, -2.86780083,\n",
       "        -4.48126949, -3.55026003, -3.88476753, -3.67857655, -4.28291512,\n",
       "        -4.60961911, -3.38642901, -2.6921956 , -2.80371766, -2.03590374,\n",
       "        -1.24600366, -1.63742917, -3.10650873, -4.00567036, -5.34619896,\n",
       "        -4.18176432, -2.8436491 , -1.25727522, -3.27683077, -2.20542986],\n",
       "       [ 2.21219131,  3.32417902,  1.17294941,  2.94124771,  2.98293675,\n",
       "         2.75053764,  3.20163294,  2.15262602,  2.15540839,  3.77583803,\n",
       "         4.3982349 ,  4.45663638,  4.54624454,  3.36485055,  3.21486266,\n",
       "         1.58056733,  2.60300828,  0.4172978 ,  1.27219818,  2.25160908,\n",
       "         3.57037369,  3.65723286,  4.57386132,  4.41411468,  3.22741756,\n",
       "         4.75814996,  4.66126413,  3.25175281,  2.78493786,  2.35761318,\n",
       "         2.8193101 ,  5.16635758,  5.6887762 ,  5.89562005,  8.35139625,\n",
       "         9.33028979,  9.58453899,  9.10512713,  9.42132721,  9.3549368 ,\n",
       "         9.44637093, 10.76077336, 10.22045117, 10.73399188, 11.68293187,\n",
       "        11.02081936, 10.19819794, 10.04785602,  9.58622643, 10.73855904,\n",
       "         9.73679076,  9.80526213, 12.35131046, 12.76436699, 13.34365714,\n",
       "        14.50433963, 14.04139057, 12.95997094, 13.13648221, 13.40188604,\n",
       "        11.78367525, 12.15874716, 13.22859766, 12.31564959, 12.75120544,\n",
       "        13.6434691 , 14.23014731, 14.91115354, 14.6663533 , 13.53884897,\n",
       "        13.0917025 , 12.5056454 , 12.42538635, 13.51865726, 12.20681713,\n",
       "        12.35106715, 11.28766551, 10.54761859, 11.10635934,  9.91641429,\n",
       "        10.65065858,  9.29849413,  9.96547454,  8.41594327,  7.79813059,\n",
       "         9.69462497, 11.40317134, 10.99064669, 11.38060727, 12.58467529,\n",
       "        13.26597147, 12.99250722, 12.24387191, 13.11197505, 14.24267836,\n",
       "        15.95838019, 14.27113077, 13.01800598, 14.17992958, 12.62839904],\n",
       "       [ 1.23854995,  1.02361745,  0.50270363,  0.70813223, -0.63723623,\n",
       "         0.1867786 ,  1.8764156 ,  2.74699182,  2.50048313,  0.96244742,\n",
       "        -0.53714004, -1.86678334, -1.87906162, -1.76566155, -0.89721804,\n",
       "        -2.69324703, -1.3820368 , -0.68763048, -1.01446677, -2.20422832,\n",
       "        -0.95508767, -1.25518164, -1.27520053, -0.89158856, -1.80478747,\n",
       "        -2.08696805, -1.22165115, -0.45755507,  0.31555214, -0.83962761,\n",
       "        -1.07620796, -1.4726018 , -1.04742296, -0.71176497, -0.55633764,\n",
       "         1.90939632,  1.61859024,  1.21076715,  0.05401748, -1.48382984,\n",
       "        -2.70414722, -3.42282915, -2.11275605, -2.07359215, -1.88026148,\n",
       "        -1.97653479, -1.6112338 , -0.20916165, -2.20309248, -0.98475517,\n",
       "        -3.49979362, -3.47159091, -1.27968355, -0.59902562, -0.22596668,\n",
       "         1.77597929,  1.07291639,  1.50688381,  2.08500091,  1.56259877,\n",
       "         1.12848859,  0.58470916,  0.67202414,  1.21871574,  1.34194601,\n",
       "         2.05140783,  0.08226055, -0.13599062, -1.15940993, -0.85768742,\n",
       "        -0.57076999, -0.6863921 , -0.17611309,  0.82169963,  0.7611791 ,\n",
       "        -0.29051578, -1.87177335, -1.83566318, -1.59379648, -2.56332037,\n",
       "        -1.83755354, -2.29651043, -3.95294329, -2.69650695, -1.55251903,\n",
       "        -3.56811847, -4.13071875, -4.73230243, -3.09281377, -3.19210648,\n",
       "        -4.68798468, -3.8058799 , -5.03665545, -5.29699594, -6.06676481,\n",
       "        -6.62721991, -5.68996182, -4.16863166, -5.44300041, -4.81692398],\n",
       "       [-0.73275363, -1.43442554, -0.94378932, -1.97169208, -1.50108948,\n",
       "        -0.77097613, -1.20350839,  0.12356971, -1.1492549 ,  0.19615129,\n",
       "        -1.74783614,  0.951878  ,  0.54567576, -0.61663139, -0.8493033 ,\n",
       "        -1.89578124, -1.50881594, -0.14115861, -1.13461484, -0.5552156 ,\n",
       "        -2.08795097, -1.05499624, -0.63875987,  0.43742345,  0.31507655,\n",
       "        -0.12008005,  0.69603739, -0.61201113, -2.35483546, -2.35979745,\n",
       "        -2.74939406, -2.19556072, -1.1040093 , -0.57099522,  0.44090809,\n",
       "         0.76196042,  1.25655617,  1.13989896,  1.60494442,  1.77159725,\n",
       "         2.09677405,  1.93005002,  2.73897922,  2.02852667,  2.01017765,\n",
       "         3.32196155,  2.37323972,  0.21139426,  0.57785143,  0.32089694,\n",
       "         1.33175918,  1.2012441 ,  0.59690503,  0.52108763,  1.61415622,\n",
       "         2.18952584, -0.24437641, -0.05860892,  0.17715321,  0.15890325,\n",
       "        -0.45198664,  0.74254523,  1.98657918, -0.21658128, -1.01454076,\n",
       "        -1.15927141, -0.21076321, -0.17591033, -0.85950413, -0.14997055,\n",
       "        -0.36130664, -0.4787075 , -0.50586593,  0.06844251, -0.24010709,\n",
       "         0.4468394 ,  0.37377043, -0.69324616, -0.73002246, -1.74523586,\n",
       "        -1.70424907, -0.87477515, -1.94840415, -1.58413075, -2.4131682 ,\n",
       "        -2.21146764, -1.3512634 , -3.48077648, -4.5952523 , -4.96423175,\n",
       "        -4.64919126, -4.81557459, -4.86145537, -2.81847084, -4.03092812,\n",
       "        -2.89544311, -3.24542123, -2.69594644, -0.56699989,  0.12167814],\n",
       "       [ 0.37249571,  1.97161804,  3.09641669,  2.29702261,  2.59154736,\n",
       "         0.87405162,  0.33389823,  0.6479512 ,  0.04584585,  0.31921259,\n",
       "         0.30582798,  0.84224471,  0.41804569, -0.52210323,  0.9560236 ,\n",
       "         0.46032686,  1.12033745,  2.55558448,  2.71825448,  1.86194791,\n",
       "         1.68333793,  2.70087885,  2.90712639,  1.7019846 ,  2.29862844,\n",
       "         3.06815991,  2.71284802,  3.32309239,  3.56811099,  3.37068145,\n",
       "         2.07714571,  3.1550996 ,  3.9143106 ,  4.4981969 ,  6.0427229 ,\n",
       "         6.98791663,  7.67448263,  5.46125529,  6.65815024,  6.74123075,\n",
       "         7.05372243,  7.37305562,  8.14688837,  9.26906339,  9.90330454,\n",
       "        10.37859013, 10.61010287,  7.25849235,  6.97090133,  6.02931181,\n",
       "         7.24005135,  7.85908855,  7.40095156,  7.04323438,  6.64925302,\n",
       "         6.23742686,  4.79286942,  3.13158993,  3.1606367 ,  4.23595084,\n",
       "         3.69826114,  4.00170589,  4.73596681,  3.7425886 ,  3.72261317,\n",
       "         3.05609269,  4.66221218,  6.22467169,  5.23232885,  5.61821323,\n",
       "         6.68581254,  7.53414204,  7.61570507,  8.92226253,  8.01774784,\n",
       "         7.7146549 ,  6.83701248,  7.61950597,  7.0368691 ,  6.86561992,\n",
       "         7.48329029,  8.18154021,  7.27441386,  8.33106914,  8.78675881,\n",
       "         7.70505597,  6.37734008,  6.36152037,  7.21161436,  8.08733022,\n",
       "         8.4434971 ,  8.49217193,  9.0039096 ,  8.14857909,  9.83556695,\n",
       "        11.50950537, 11.93831768, 12.1356181 , 11.72419713, 12.25294598]])"
      ]
     },
     "execution_count": 72,
     "metadata": {},
     "output_type": "execute_result"
    }
   ],
   "source": [
    "bms"
   ]
  },
  {
   "cell_type": "code",
   "execution_count": 73,
   "metadata": {},
   "outputs": [
    {
     "data": {
      "image/png": "[encoded data removed]",
      "text/plain": [
       "<Figure size 432x288 with 1 Axes>"
      ]
     },
     "metadata": {
      "needs_background": "light"
     },
     "output_type": "display_data"
    }
   ],
   "source": [
    "xs = np.random.randn(5, 100)\n",
    "\n",
    "plt.title(\"Brownian Motion\")\n",
    "bms = xs.cumsum(axis=1) ## suma acumulada para definir el movimiento en el eje y\n",
    "for bm in bms:\n",
    "    plt.plot(bm)"
   ]
  },
  {
   "cell_type": "markdown",
   "metadata": {},
   "source": [
    "### Subplots\n",
    "\n",
    "Muchas veces querremos tener los gráficos por separado. La forma más sencilla de generarlos es usando el comando sublplots y especificando el numero de filas y/o columnas en los que queremos que se dividan.\n",
    "\n",
    "```python\n",
    "\n",
    "fig, ax = plt.subplots(nrows=2,\n",
    "                       ncols=3,\n",
    "                       sharex=True,\n",
    "                       sharey=True)\n",
    "```\n",
    "`ax` es un np.array de (nrows, ncols) al que podremos acceder por los indices para poder \"colocar\" los plots que queramos.\n",
    "                       \n",
    "                    "
   ]
  },
  {
   "cell_type": "code",
   "execution_count": 74,
   "metadata": {},
   "outputs": [
    {
     "data": {
      "image/png": "[encoded data removed]",
      "text/plain": [
       "<Figure size 432x288 with 2 Axes>"
      ]
     },
     "metadata": {
      "needs_background": "light"
     },
     "output_type": "display_data"
    }
   ],
   "source": [
    "fig, ax = plt.subplots(nrows=2,\n",
    "                       sharex=True,\n",
    "                       sharey=True)\n",
    "for i in range(2):\n",
    "    ax[i].plot(np.random.randn(100))"
   ]
  },
  {
   "cell_type": "markdown",
   "metadata": {},
   "source": [
    "## Histogram and bar plot\n",
    "\n",
    "Aunque *matplotlib* tiene funcionalidad para histogramas, los de seaborn ofrecen una funcionaliad más completa."
   ]
  },
  {
   "cell_type": "code",
   "execution_count": 76,
   "metadata": {},
   "outputs": [
    {
     "data": {
      "image/png": "[encoded data removed]",
      "text/plain": [
       "<Figure size 432x288 with 2 Axes>"
      ]
     },
     "metadata": {
      "needs_background": "light"
     },
     "output_type": "display_data"
    }
   ],
   "source": [
    "# matplotlib\n",
    "\n",
    "data = np.random.gamma(4.5, 1.0, 10000)\n",
    "\n",
    "fig, ax = plt.subplots(ncols=2)\n",
    "\n",
    "ax[0].boxplot(data) \n",
    "ax[1].hist(data)\n",
    "\n",
    "plt.show()"
   ]
  },
  {
   "cell_type": "markdown",
   "metadata": {},
   "source": [
    "**Seaborn: It provides a high-level interface for drawing attractive and informative statistical graphics.**"
   ]
  },
  {
   "cell_type": "code",
   "execution_count": 77,
   "metadata": {},
   "outputs": [
    {
     "data": {
      "image/png": "[encoded data removed]",
      "text/plain": [
       "<Figure size 1440x864 with 3 Axes>"
      ]
     },
     "metadata": {
      "needs_background": "light"
     },
     "output_type": "display_data"
    }
   ],
   "source": [
    "# seaborn\n",
    "# matplotlib\n",
    "data = np.random.gamma(4.5, 1.0, 10000)\n",
    "\n",
    "fig, ax = plt.subplots(ncols=3, figsize=(20, 12))\n",
    "\n",
    "sns.boxplot(data, ax=ax[0], orient='v')\n",
    "\n",
    "sns.violinplot(data, ax=ax[1], orient='v')\n",
    "\n",
    "sns.distplot(data, ax=ax[2])\n",
    "\n",
    "plt.show()"
   ]
  },
  {
   "cell_type": "markdown",
   "metadata": {},
   "source": [
    "## Scatter plots\n",
    "Necesitamos dos arrays o listas del mismo tamaño para poder plotear una contra la otra"
   ]
  },
  {
   "cell_type": "code",
   "execution_count": 78,
   "metadata": {},
   "outputs": [
    {
     "data": {
      "image/png": "[encoded data removed]",
      "text/plain": [
       "<Figure size 432x288 with 1 Axes>"
      ]
     },
     "metadata": {
      "needs_background": "light"
     },
     "output_type": "display_data"
    }
   ],
   "source": [
    "x = np.random.normal(size=1000)\n",
    "y = np.random.normal(size=1000)\n",
    "\n",
    "plt.scatter(x, y, c='firebrick', alpha=0.2)\n",
    "plt.show()"
   ]
  },
  {
   "cell_type": "markdown",
   "metadata": {},
   "source": [
    "## Seaborn"
   ]
  },
  {
   "cell_type": "code",
   "execution_count": null,
   "metadata": {},
   "outputs": [],
   "source": [
    "sns.jointplot(x=x, y=y, kind='kde')"
   ]
  },
  {
   "cell_type": "code",
   "execution_count": null,
   "metadata": {},
   "outputs": [],
   "source": [
    "## Genera un sinusoide con 1000 elementos\n",
    "\n",
    "x = ## \n",
    "y_real = np.sin(x)"
   ]
  },
  {
   "cell_type": "code",
   "execution_count": null,
   "metadata": {},
   "outputs": [],
   "source": [
    "plt.scatter(x, y_real)"
   ]
  },
  {
   "cell_type": "code",
   "execution_count": null,
   "metadata": {},
   "outputs": [],
   "source": [
    "noise = np.random.normal(0, 0.1, size=###)"
   ]
  },
  {
   "cell_type": "code",
   "execution_count": null,
   "metadata": {},
   "outputs": [],
   "source": [
    "y_noise = y_real + noise"
   ]
  },
  {
   "cell_type": "code",
   "execution_count": null,
   "metadata": {},
   "outputs": [],
   "source": [
    "plt.scatter(x, y_noise)"
   ]
  }
 ],
 "metadata": {
  "anaconda-cloud": {},
  "kernelspec": {
   "display_name": "Python 3",
   "language": "python",
   "name": "python3"
  },
  "language_info": {
   "codemirror_mode": {
    "name": "ipython",
    "version": 3
   },
   "file_extension": ".py",
   "mimetype": "text/x-python",
   "name": "python",
   "nbconvert_exporter": "python",
   "pygments_lexer": "ipython3",
   "version": "3.7.3"
  }
 },
 "nbformat": 4,
 "nbformat_minor": 4
}
