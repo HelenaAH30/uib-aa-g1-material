{
 "cells": [
  {
   "cell_type": "markdown",
   "metadata": {},
   "source": [
    "# Introducción a Numpy y Matplotlib"
   ]
  },
  {
   "cell_type": "markdown",
   "metadata": {},
   "source": [
    "![img/3-numpy/numpy_logo.jpg](img/3-numpy/numpy_logo.jpg)\n",
    "\n",
    "# Que es numpy?\n",
    "\n",
    "En la sesión anterior vimos que una de las estrucutras de datos fundamentales en python son las listas. A pesar de ser un elemento muy útil en el mundo de la programación, esta estructura de datos es ineficiente cuando queremos considerar estas listas como vectores.\n",
    "\n",
    "Por ejemplo,\n",
    "\n",
    "```python\n",
    "\n",
    "lista_1 = [1, 2, 3]\n",
    "lista_2 = [2, 3, 4]\n",
    "\n",
    "suma_lista_1_2 = lista_1 + lista_2\n",
    "\n",
    "print(suma_lista)\n",
    "\n",
    "# output\n",
    "[1, 2, 3, 2, 3, 4]\n",
    "```\n",
    "\n",
    "Si quisieramos sumar elemento a elemento, deberíamos crearnos una función con bucles que nos devolviese el vector resultante."
   ]
  },
  {
   "cell_type": "code",
   "execution_count": 47,
   "metadata": {},
   "outputs": [],
   "source": [
    "## Escribe una función que dadas dos listas nos\n",
    "## devuelva la suma elemento a elemento.\n",
    "## Ojo! Acuerdate de comprobar que son del mismo tamaño!\n",
    "\n",
    "def suma_dos_listas_elemento_a_elemento(a, b):\n",
    "    \"\"\"\n",
    "    Suma las dos listas a y b\n",
    "    \"\"\"\n",
    "    suma = []\n",
    "    if len(a) == len(b):\n",
    "        for idx in range(len(a)):\n",
    "            suma.append(a[idx] + b[idx])\n",
    "    else:\n",
    "        print( \"el tamaño de las listas debería ser el mismo\")\n",
    "    return suma\n",
    "            \n",
    "\n",
    "##Extra: Echale un vistazo a la funcion zip() de python.\n",
    "##Usando zip y las list comprehensions podemos reescribir\n",
    "##la función en una linea de forma pythonica!\n"
   ]
  },
  {
   "cell_type": "code",
   "execution_count": 48,
   "metadata": {},
   "outputs": [],
   "source": [
    "a = [1, 2, 3] * 100000\n",
    "b = [2, 3, 4] * 100000"
   ]
  },
  {
   "cell_type": "code",
   "execution_count": 49,
   "metadata": {},
   "outputs": [
    {
     "name": "stdout",
     "output_type": "stream",
     "text": [
      "36.2 ms ± 1.68 ms per loop (mean ± std. dev. of 7 runs, 10 loops each)\n"
     ]
    }
   ],
   "source": [
    "%timeit suma_a_b = suma_dos_listas_elemento_a_elemento(a, b)"
   ]
  },
  {
   "cell_type": "code",
   "execution_count": 50,
   "metadata": {},
   "outputs": [
    {
     "name": "stdout",
     "output_type": "stream",
     "text": [
      "16.6 ms ± 735 µs per loop (mean ± std. dev. of 7 runs, 100 loops each)\n"
     ]
    }
   ],
   "source": [
    "%timeit [x + y for x, y  in zip(a,b)]"
   ]
  },
  {
   "cell_type": "markdown",
   "metadata": {},
   "source": [
    "Como veis en el ejemplo anterior, no solo es innecesariamente complicado si no que es ineficiente cuando queremos tratar con vectores de gran tamaño. Sería conveniente tener operaciones definidas para este tipo de problemas.\n",
    "\n",
    "Eso es exactamente lo que hace **Numpy**. Interpreta las listas como vectores numéricos y nos permite realizar operaciones de algebra lineal de forma eficiente.\n",
    "\n",
    "Por si no fuera poco, **Numpy** está escrito en **C**, uno de los lenguajes de programación más [rápidos](https://attractivechaos.github.io/plb/). Además de proporcionarnos velocidad a la hora de realizar cálculos algebráicos, sirve cómo interfaz para comunicarse con funcionalidades escritas en **C** y en **Fortran**. Ésta es la razón principal por la **Numpy** nos importa cómo analistas o cientificos de datos, aunque no trabajemos directamente en algebra: los principales módulos para el análisis de datos (pandas y sklearn) se basan en **Numpy**, por lo que entender su estructura y uso nos facilitara la comprensión de las librerias de más alto nivel.\n",
    "\n"
   ]
  },
  {
   "cell_type": "code",
   "execution_count": 51,
   "metadata": {},
   "outputs": [],
   "source": [
    "## importar numpy bajo el alias np\n",
    "\n",
    "import numpy as np"
   ]
  },
  {
   "cell_type": "markdown",
   "metadata": {},
   "source": [
    "## `np.array` y `np.ndarray`\n",
    "\n",
    "### `np.ndarray`\n",
    "\n",
    "De la [documentación](https://docs.scipy.org/doc/numpy-1.13.0/reference/arrays.html) oficial:\n",
    "\n",
    ">  Describes an N-dimensional collection of “items” of the same type.\n",
    "\n",
    "### `np.array`\n",
    "\n",
    "Es un metodo de numpy que nos permite crear np.ndarray\n"
   ]
  },
  {
   "cell_type": "markdown",
   "metadata": {},
   "source": [
    "### Crear un array a partir de listas\n",
    "\n",
    "Para crear un array a partir de una lista, simplemente debemos pasar la lista como argumento a la función np.array()\n",
    "\n",
    "```python\n",
    "\n",
    "mi_lista = [1, 2, 3]\n",
    "\n",
    "mi_array = np.array(mi_lista)\n",
    "\n",
    "print(type(mi_array))\n",
    "```\n",
    "\n",
    "También, podemos crear un array a partir de una lista de listas.\n",
    "\n",
    "```python\n",
    "\n",
    "mi_lista_anidada = [[1, 2, 3],\n",
    "                    [4, 5, 6]]\n",
    "\n",
    "mi_array_2d = np.array(mi_lista_anidada)\n",
    "```\n",
    "                   "
   ]
  },
  {
   "cell_type": "code",
   "execution_count": 52,
   "metadata": {},
   "outputs": [],
   "source": [
    "## Crea un ndarray a partir de una lista anidada\n",
    "mi_lista = [1, 2, 3]\n",
    "\n",
    "mi_lista_anidada = [[1, 2, 3],\n",
    "                    [4, 5, 6]]\n",
    "\n",
    "array_1D = np.array(mi_lista)\n",
    "\n",
    "array_2D = np.array(mi_lista_anidada)"
   ]
  },
  {
   "cell_type": "markdown",
   "metadata": {},
   "source": [
    "## Atributos de np.ndarray\n",
    "\n",
    "Cada array tiene los atributos:\n",
    "\n",
    "* `ndim`: el número de dimensionesthe number of dimensiones\n",
    "* `shape`: el tamaño de cada dimensión\n",
    "* `size`: el tamaño total del array"
   ]
  },
  {
   "cell_type": "code",
   "execution_count": 53,
   "metadata": {},
   "outputs": [
    {
     "data": {
      "text/plain": [
       "(2, 3)"
      ]
     },
     "execution_count": 53,
     "metadata": {},
     "output_type": "execute_result"
    }
   ],
   "source": [
    "## Comprueba los atributos del array creado antes\n",
    "\n",
    "array_2D.shape\n"
   ]
  },
  {
   "cell_type": "markdown",
   "metadata": {},
   "source": [
    "## Arrays de números aleatorios\n",
    "\n",
    "Numpy tiene una funcionalidad muy útil para generar datos de forma aleatoria o siguiendo alguna distribución estadística.\n",
    "\n",
    "```python\n",
    "gauss_dist = np.random.normal(loc=0,\n",
    "                              scale=1,\n",
    "                              size=(1000, 2))\n",
    "```"
   ]
  },
  {
   "cell_type": "code",
   "execution_count": 54,
   "metadata": {},
   "outputs": [],
   "source": [
    "## inicializar un vector aleatorio de enteros\n",
    "np.random.seed(0)  # semilla for reproducibility\n",
    "\n",
    "x1 = np.random.randint(10, size=6)  # One-dimensional array\n",
    "x2 = np.random.randint(10, size=(3, 4))  # Two-dimensional array"
   ]
  },
  {
   "cell_type": "code",
   "execution_count": 55,
   "metadata": {},
   "outputs": [],
   "source": [
    "## crea un array de 200 filas y 3 columnas aleatorio que siga una distribución\n",
    "## de poisson\n",
    "\n",
    "x_pois = np.random.poisson(lam=2., size=(200, 3))"
   ]
  },
  {
   "cell_type": "code",
   "execution_count": 56,
   "metadata": {
    "scrolled": true
   },
   "outputs": [
    {
     "data": {
      "text/plain": [
       "array([[3, 3, 4],\n",
       "       [4, 1, 2],\n",
       "       [1, 1, 4],\n",
       "       [2, 3, 0],\n",
       "       [6, 2, 4],\n",
       "       [0, 5, 1],\n",
       "       [3, 3, 5],\n",
       "       [1, 3, 2],\n",
       "       [1, 2, 2],\n",
       "       [6, 3, 3],\n",
       "       [1, 2, 2],\n",
       "       [3, 0, 2],\n",
       "       [2, 1, 3],\n",
       "       [0, 3, 0],\n",
       "       [1, 3, 0],\n",
       "       [3, 1, 3],\n",
       "       [2, 1, 5],\n",
       "       [1, 3, 4],\n",
       "       [1, 4, 0],\n",
       "       [5, 4, 3],\n",
       "       [3, 2, 1],\n",
       "       [3, 3, 3],\n",
       "       [2, 2, 2],\n",
       "       [3, 1, 1],\n",
       "       [1, 2, 0],\n",
       "       [1, 1, 1],\n",
       "       [3, 4, 4],\n",
       "       [3, 6, 1],\n",
       "       [1, 1, 3],\n",
       "       [2, 1, 4],\n",
       "       [3, 5, 0],\n",
       "       [2, 2, 3],\n",
       "       [1, 2, 1],\n",
       "       [0, 0, 1],\n",
       "       [4, 3, 3],\n",
       "       [1, 2, 1],\n",
       "       [1, 1, 2],\n",
       "       [2, 1, 2],\n",
       "       [1, 3, 2],\n",
       "       [1, 0, 6],\n",
       "       [0, 2, 4],\n",
       "       [0, 0, 0],\n",
       "       [2, 3, 3],\n",
       "       [2, 0, 3],\n",
       "       [1, 1, 4],\n",
       "       [3, 3, 3],\n",
       "       [3, 1, 3],\n",
       "       [1, 1, 1],\n",
       "       [3, 3, 1],\n",
       "       [2, 1, 4],\n",
       "       [2, 1, 0],\n",
       "       [2, 1, 3],\n",
       "       [4, 3, 4],\n",
       "       [4, 2, 1],\n",
       "       [2, 0, 2],\n",
       "       [1, 1, 2],\n",
       "       [2, 1, 5],\n",
       "       [2, 5, 4],\n",
       "       [3, 1, 2],\n",
       "       [0, 0, 1],\n",
       "       [4, 1, 2],\n",
       "       [4, 1, 1],\n",
       "       [2, 2, 3],\n",
       "       [2, 4, 2],\n",
       "       [4, 4, 2],\n",
       "       [1, 1, 1],\n",
       "       [2, 4, 3],\n",
       "       [2, 0, 0],\n",
       "       [2, 3, 3],\n",
       "       [0, 2, 0],\n",
       "       [0, 2, 0],\n",
       "       [4, 1, 3],\n",
       "       [2, 0, 1],\n",
       "       [3, 7, 2],\n",
       "       [1, 0, 1],\n",
       "       [1, 0, 5],\n",
       "       [1, 2, 1],\n",
       "       [2, 4, 1],\n",
       "       [1, 0, 2],\n",
       "       [4, 3, 3],\n",
       "       [2, 1, 3],\n",
       "       [4, 1, 2],\n",
       "       [4, 1, 2],\n",
       "       [0, 4, 3],\n",
       "       [3, 3, 0],\n",
       "       [5, 3, 1],\n",
       "       [1, 2, 2],\n",
       "       [1, 1, 0],\n",
       "       [2, 4, 0],\n",
       "       [0, 0, 2],\n",
       "       [4, 4, 2],\n",
       "       [1, 3, 2],\n",
       "       [1, 2, 1],\n",
       "       [3, 2, 1],\n",
       "       [1, 1, 1],\n",
       "       [6, 2, 0],\n",
       "       [3, 3, 1],\n",
       "       [4, 2, 3],\n",
       "       [5, 0, 2],\n",
       "       [3, 3, 3],\n",
       "       [3, 4, 5],\n",
       "       [1, 4, 3],\n",
       "       [2, 2, 3],\n",
       "       [1, 3, 1],\n",
       "       [3, 2, 0],\n",
       "       [0, 3, 0],\n",
       "       [4, 3, 0],\n",
       "       [1, 1, 2],\n",
       "       [1, 3, 3],\n",
       "       [3, 0, 1],\n",
       "       [0, 2, 2],\n",
       "       [1, 2, 1],\n",
       "       [1, 1, 0],\n",
       "       [0, 3, 2],\n",
       "       [1, 2, 2],\n",
       "       [3, 1, 2],\n",
       "       [3, 1, 1],\n",
       "       [5, 1, 1],\n",
       "       [0, 2, 1],\n",
       "       [1, 1, 6],\n",
       "       [2, 2, 2],\n",
       "       [3, 1, 2],\n",
       "       [3, 2, 1],\n",
       "       [2, 3, 1],\n",
       "       [1, 3, 6],\n",
       "       [0, 1, 2],\n",
       "       [0, 3, 1],\n",
       "       [5, 3, 4],\n",
       "       [3, 2, 4],\n",
       "       [2, 2, 4],\n",
       "       [0, 1, 0],\n",
       "       [1, 2, 2],\n",
       "       [3, 1, 1],\n",
       "       [2, 2, 2],\n",
       "       [3, 1, 2],\n",
       "       [1, 4, 4],\n",
       "       [2, 4, 4],\n",
       "       [1, 1, 2],\n",
       "       [1, 2, 2],\n",
       "       [2, 1, 2],\n",
       "       [4, 1, 2],\n",
       "       [2, 0, 3],\n",
       "       [1, 4, 0],\n",
       "       [3, 2, 2],\n",
       "       [0, 1, 1],\n",
       "       [3, 0, 0],\n",
       "       [3, 1, 0],\n",
       "       [4, 2, 0],\n",
       "       [1, 7, 4],\n",
       "       [2, 2, 0],\n",
       "       [2, 3, 2],\n",
       "       [3, 2, 2],\n",
       "       [1, 3, 1],\n",
       "       [0, 2, 4],\n",
       "       [1, 1, 1],\n",
       "       [3, 2, 4],\n",
       "       [2, 3, 1],\n",
       "       [1, 1, 2],\n",
       "       [0, 1, 3],\n",
       "       [1, 0, 4],\n",
       "       [3, 1, 0],\n",
       "       [1, 1, 1],\n",
       "       [3, 2, 5],\n",
       "       [3, 2, 1],\n",
       "       [2, 0, 5],\n",
       "       [1, 1, 1],\n",
       "       [3, 1, 4],\n",
       "       [1, 5, 2],\n",
       "       [2, 0, 3],\n",
       "       [1, 3, 3],\n",
       "       [0, 1, 1],\n",
       "       [2, 4, 2],\n",
       "       [2, 4, 1],\n",
       "       [1, 1, 3],\n",
       "       [2, 1, 0],\n",
       "       [1, 1, 3],\n",
       "       [1, 3, 2],\n",
       "       [0, 1, 1],\n",
       "       [2, 2, 2],\n",
       "       [3, 0, 2],\n",
       "       [1, 1, 3],\n",
       "       [4, 3, 3],\n",
       "       [5, 3, 7],\n",
       "       [2, 2, 0],\n",
       "       [0, 1, 2],\n",
       "       [2, 3, 0],\n",
       "       [0, 2, 2],\n",
       "       [0, 5, 2],\n",
       "       [3, 1, 3],\n",
       "       [3, 2, 2],\n",
       "       [2, 1, 2],\n",
       "       [0, 2, 3],\n",
       "       [0, 2, 2],\n",
       "       [3, 1, 2],\n",
       "       [3, 3, 1],\n",
       "       [2, 5, 3],\n",
       "       [7, 0, 3],\n",
       "       [4, 1, 5],\n",
       "       [4, 1, 2],\n",
       "       [1, 0, 3]])"
      ]
     },
     "execution_count": 56,
     "metadata": {},
     "output_type": "execute_result"
    }
   ],
   "source": [
    "x_pois"
   ]
  },
  {
   "cell_type": "markdown",
   "metadata": {},
   "source": [
    "## Indexing\n",
    "Sigue un patron similar a las listas de python.\n",
    "\n",
    "Para acceder al $i^{th}$ elemento de una array 1-dimensional se sigue la sintaxis de braquets.\n",
    "\n",
    "Para acceder al $i^{th}$ elemento de una array 2-dimensional se sigue la sintaxis de braquets con los indices separados por comas."
   ]
  },
  {
   "cell_type": "code",
   "execution_count": 57,
   "metadata": {},
   "outputs": [
    {
     "name": "stdout",
     "output_type": "stream",
     "text": [
      "5\n",
      "3\n",
      "7\n"
     ]
    }
   ],
   "source": [
    "## accede al primer, tercer y quinto elemento de x1.\n",
    "print(x1[0])\n",
    "print(x1[2])\n",
    "print(x1[4])"
   ]
  },
  {
   "cell_type": "code",
   "execution_count": 58,
   "metadata": {},
   "outputs": [
    {
     "data": {
      "text/plain": [
       "5"
      ]
     },
     "execution_count": 58,
     "metadata": {},
     "output_type": "execute_result"
    }
   ],
   "source": [
    "## accede primer al elemento de la primera fila y segunda columna de x2\n",
    "x2[0, 1]"
   ]
  },
  {
   "cell_type": "markdown",
   "metadata": {},
   "source": [
    "## Slicing\n",
    "\n",
    "De la misma forma que hacemos \"slices\" de listas en python podemos crearlos en los np.array.\n",
    "\n",
    "Además, podemos especificar un \"step\", que es la cantidad de elementos que se saltara entre uno y otro.\n",
    "\n",
    "\n",
    "x[start:stop:step]\n",
    "\n",
    "Si no se especifica alguno de ellos, numpy toma el valor por defecto, que son:\n",
    "\n",
    "* start=0\n",
    "* stop=tamaño de la dimensión\n",
    "* step=1"
   ]
  },
  {
   "cell_type": "code",
   "execution_count": 59,
   "metadata": {},
   "outputs": [
    {
     "data": {
      "text/plain": [
       "array([0, 1, 2, 3, 4, 5, 6, 7, 8, 9])"
      ]
     },
     "execution_count": 59,
     "metadata": {},
     "output_type": "execute_result"
    }
   ],
   "source": [
    "## Crea un array de una dimension con los numeros del 0 al 9 usando arange\n",
    "a = np.arange(10)\n",
    "a"
   ]
  },
  {
   "cell_type": "code",
   "execution_count": 60,
   "metadata": {},
   "outputs": [
    {
     "data": {
      "text/plain": [
       "array([0, 1, 2])"
      ]
     },
     "execution_count": 60,
     "metadata": {},
     "output_type": "execute_result"
    }
   ],
   "source": [
    "## Crea un slice que contenga los 3 primeros elementos\n",
    "a_3 = a[:3]\n",
    "a_3"
   ]
  },
  {
   "cell_type": "code",
   "execution_count": 61,
   "metadata": {},
   "outputs": [
    {
     "data": {
      "text/plain": [
       "array([8, 9])"
      ]
     },
     "execution_count": 61,
     "metadata": {},
     "output_type": "execute_result"
    }
   ],
   "source": [
    "## Crea un slice que contenga los 2 ultimos elementos\n",
    "a_last_2 = a[8:]\n",
    "a_last_2"
   ]
  },
  {
   "cell_type": "code",
   "execution_count": 62,
   "metadata": {},
   "outputs": [
    {
     "data": {
      "text/plain": [
       "array([0, 2, 4])"
      ]
     },
     "execution_count": 62,
     "metadata": {},
     "output_type": "execute_result"
    }
   ],
   "source": [
    "## Crea un slice que contenga los elementos uno si y uno no\n",
    "a[:6:2]"
   ]
  },
  {
   "cell_type": "markdown",
   "metadata": {},
   "source": [
    "#### Ojo! si el paso es negativo los campos de start y stop se invierten. Es una forma muy conveniente de invertir el orden de un array"
   ]
  },
  {
   "cell_type": "code",
   "execution_count": 63,
   "metadata": {},
   "outputs": [
    {
     "name": "stdout",
     "output_type": "stream",
     "text": [
      "[0 1 2 3 4 5 6 7 8 9]\n",
      "[9 8 7 6 5 4 3 2 1 0]\n"
     ]
    }
   ],
   "source": [
    "ordered = np.arange(10)\n",
    "print(ordered)\n",
    "reverse_order = ordered[::-1] \n",
    "print(reverse_order)"
   ]
  },
  {
   "cell_type": "markdown",
   "metadata": {},
   "source": [
    "## Multidimensiones\n",
    "\n",
    "Hay que especificar el sub-slice en cada una de las dimensiones separados por coma en braquets\n",
    "\n",
    "\n",
    "```python\n",
    "\n",
    "x = np.array([[3, 5, 2, 4],\n",
    "              [7, 6, 8, 8],\n",
    "              [1, 6, 7, 7]])\n",
    "# columnas\n",
    "x[:, 2]\n",
    "# output\n",
    "array([2, 8, 7])\n",
    "\n",
    "# filas\n",
    "x[1, :]\n",
    "\n",
    "# output\n",
    "array([7, 6, 8, 8])\n",
    "```"
   ]
  },
  {
   "cell_type": "code",
   "execution_count": 64,
   "metadata": {},
   "outputs": [
    {
     "data": {
      "text/plain": [
       "array([3, 7, 1])"
      ]
     },
     "execution_count": 64,
     "metadata": {},
     "output_type": "execute_result"
    }
   ],
   "source": [
    "## accede a la primera columna\n",
    "x = np.array([[3, 5, 2, 4],\n",
    "              [7, 6, 8, 8],\n",
    "              [1, 6, 7, 7]])\n",
    "\n",
    "x[:, 0]"
   ]
  },
  {
   "cell_type": "code",
   "execution_count": 65,
   "metadata": {},
   "outputs": [
    {
     "data": {
      "text/plain": [
       "array([5, 6, 6])"
      ]
     },
     "execution_count": 65,
     "metadata": {},
     "output_type": "execute_result"
    }
   ],
   "source": [
    "## accede a la segunda columna\n",
    "x[:, 1]"
   ]
  },
  {
   "cell_type": "code",
   "execution_count": 66,
   "metadata": {},
   "outputs": [
    {
     "data": {
      "text/plain": [
       "array([[7, 6, 8, 8],\n",
       "       [1, 6, 7, 7]])"
      ]
     },
     "execution_count": 66,
     "metadata": {},
     "output_type": "execute_result"
    }
   ],
   "source": [
    "## elimina la primera fila\n",
    "x[1:, :]"
   ]
  },
  {
   "cell_type": "markdown",
   "metadata": {},
   "source": [
    "## Expresiones matemáticas y funciones útiles\n",
    "\n",
    "Numpy permite evaluar expresiones matematicas y funciones de forma sencilla y eficiente.\n",
    "\n",
    "Por ejemplo:\n",
    "\n",
    "```python\n",
    "\n",
    "x = np.random.randint(10, size=20)\n",
    "\n",
    "add_5_element_wise = x + 5\n",
    "```\n",
    "\n",
    "Suma `5` a cada elemento del array. Esto funciona de forma similar para las funciones aritméticas básicas (+, -, \\*,...)"
   ]
  },
  {
   "cell_type": "code",
   "execution_count": 67,
   "metadata": {},
   "outputs": [
    {
     "data": {
      "text/plain": [
       "\u001b[0;31mDocstring:\u001b[0m\n",
       "choice(a, size=None, replace=True, p=None)\n",
       "\n",
       "Generates a random sample from a given 1-D array\n",
       "\n",
       "        .. versionadded:: 1.7.0\n",
       "\n",
       "Parameters\n",
       "----------\n",
       "a : 1-D array-like or int\n",
       "    If an ndarray, a random sample is generated from its elements.\n",
       "    If an int, the random sample is generated as if a were np.arange(a)\n",
       "size : int or tuple of ints, optional\n",
       "    Output shape.  If the given shape is, e.g., ``(m, n, k)``, then\n",
       "    ``m * n * k`` samples are drawn.  Default is None, in which case a\n",
       "    single value is returned.\n",
       "replace : boolean, optional\n",
       "    Whether the sample is with or without replacement\n",
       "p : 1-D array-like, optional\n",
       "    The probabilities associated with each entry in a.\n",
       "    If not given the sample assumes a uniform distribution over all\n",
       "    entries in a.\n",
       "\n",
       "Returns\n",
       "-------\n",
       "samples : single item or ndarray\n",
       "    The generated random samples\n",
       "\n",
       "Raises\n",
       "------\n",
       "ValueError\n",
       "    If a is an int and less than zero, if a or p are not 1-dimensional,\n",
       "    if a is an array-like of size 0, if p is not a vector of\n",
       "    probabilities, if a and p have different lengths, or if\n",
       "    replace=False and the sample size is greater than the population\n",
       "    size\n",
       "\n",
       "See Also\n",
       "--------\n",
       "randint, shuffle, permutation\n",
       "\n",
       "Examples\n",
       "--------\n",
       "Generate a uniform random sample from np.arange(5) of size 3:\n",
       "\n",
       ">>> np.random.choice(5, 3)\n",
       "array([0, 3, 4]) # random\n",
       ">>> #This is equivalent to np.random.randint(0,5,3)\n",
       "\n",
       "Generate a non-uniform random sample from np.arange(5) of size 3:\n",
       "\n",
       ">>> np.random.choice(5, 3, p=[0.1, 0, 0.3, 0.6, 0])\n",
       "array([3, 3, 0]) # random\n",
       "\n",
       "Generate a uniform random sample from np.arange(5) of size 3 without\n",
       "replacement:\n",
       "\n",
       ">>> np.random.choice(5, 3, replace=False)\n",
       "array([3,1,0]) # random\n",
       ">>> #This is equivalent to np.random.permutation(np.arange(5))[:3]\n",
       "\n",
       "Generate a non-uniform random sample from np.arange(5) of size\n",
       "3 without replacement:\n",
       "\n",
       ">>> np.random.choice(5, 3, replace=False, p=[0.1, 0, 0.3, 0.6, 0])\n",
       "array([2, 3, 0]) # random\n",
       "\n",
       "Any of the above can be repeated with an arbitrary array-like\n",
       "instead of just integers. For instance:\n",
       "\n",
       ">>> aa_milne_arr = ['pooh', 'rabbit', 'piglet', 'Christopher']\n",
       ">>> np.random.choice(aa_milne_arr, 5, p=[0.5, 0.1, 0.1, 0.3])\n",
       "array(['pooh', 'pooh', 'pooh', 'Christopher', 'piglet'], # random\n",
       "      dtype='<U11')\n",
       "\u001b[0;31mType:\u001b[0m      builtin_function_or_method\n"
      ]
     },
     "metadata": {},
     "output_type": "display_data"
    }
   ],
   "source": [
    "# crea un array aleatorio y multiplica cada uno de sus elementos por 3\n",
    "a =np.random.choice??"
   ]
  },
  {
   "cell_type": "code",
   "execution_count": 68,
   "metadata": {},
   "outputs": [],
   "source": [
    "a = np.random.choice(np.array([1, 2, 3]), size=(100,))"
   ]
  },
  {
   "cell_type": "code",
   "execution_count": 69,
   "metadata": {},
   "outputs": [
    {
     "data": {
      "text/plain": [
       "array([6, 6, 3, 3, 9, 6, 3, 6, 9, 9, 3, 9, 3, 6, 3, 9, 6, 9, 6, 6, 6, 6,\n",
       "       9, 3, 6, 9, 9, 9, 3, 9, 9, 3, 9, 9, 3, 3, 3, 6, 3, 6, 6, 3, 6, 9,\n",
       "       9, 3, 6, 9, 6, 6, 9, 3, 6, 9, 3, 6, 6, 6, 6, 3, 6, 9, 9, 9, 3, 9,\n",
       "       6, 6, 9, 3, 3, 6, 6, 9, 3, 9, 6, 6, 9, 3, 6, 6, 3, 6, 3, 3, 6, 9,\n",
       "       6, 6, 6, 6, 9, 9, 9, 3, 9, 3, 6, 9])"
      ]
     },
     "execution_count": 69,
     "metadata": {},
     "output_type": "execute_result"
    }
   ],
   "source": [
    "a*3"
   ]
  },
  {
   "cell_type": "markdown",
   "metadata": {},
   "source": [
    "### Funciones trigonométricas"
   ]
  },
  {
   "cell_type": "code",
   "execution_count": 70,
   "metadata": {},
   "outputs": [
    {
     "data": {
      "text/plain": [
       "array([0.        , 0.78539816, 1.57079633, 2.35619449, 3.14159265])"
      ]
     },
     "execution_count": 70,
     "metadata": {},
     "output_type": "execute_result"
    }
   ],
   "source": [
    "# Crea un vector de 5 elementos espaciados de forma homogenea\n",
    "# entre 0 y pi, ambos incluidos\n",
    "x = np.linspace(0, np.pi, 5)\n",
    "x"
   ]
  },
  {
   "cell_type": "code",
   "execution_count": 71,
   "metadata": {},
   "outputs": [
    {
     "name": "stdout",
     "output_type": "stream",
     "text": [
      "[0.         0.78539816 1.57079633 2.35619449 3.14159265]\n",
      "[0.00000000e+00 7.07106781e-01 1.00000000e+00 7.07106781e-01\n",
      " 1.22464680e-16]\n"
     ]
    }
   ],
   "source": [
    "print(x)\n",
    "sin_x = np.sin(x)\n",
    "print(sin_x)"
   ]
  },
  {
   "cell_type": "code",
   "execution_count": 72,
   "metadata": {},
   "outputs": [
    {
     "data": {
      "text/plain": [
       "array([1., 1., 1., 1., 1.])"
      ]
     },
     "execution_count": 72,
     "metadata": {},
     "output_type": "execute_result"
    }
   ],
   "source": [
    "# demuestra el teorema fundamental de la trigonometria\n",
    "\n",
    "sin_x = np.sin(x)\n",
    "\n",
    "cos_x = np.cos(x)\n",
    "\n",
    "sin_x**2 + cos_x**2"
   ]
  },
  {
   "cell_type": "markdown",
   "metadata": {},
   "source": [
    "## Exponentes y logaritmos"
   ]
  },
  {
   "cell_type": "code",
   "execution_count": 73,
   "metadata": {},
   "outputs": [
    {
     "name": "stdout",
     "output_type": "stream",
     "text": [
      "x     = [1, 2, 3]\n",
      "e^x   = [ 2.71828183  7.3890561  20.08553692]\n",
      "2^x   = [2. 4. 8.]\n",
      "3^x   = [ 3  9 27]\n"
     ]
    }
   ],
   "source": [
    "x = [1, 2, 3]\n",
    "print(\"x     =\", x)\n",
    "print(\"e^x   =\", np.exp(x))\n",
    "print(\"2^x   =\", np.exp2(x))\n",
    "print(\"3^x   =\", np.power(3, x))"
   ]
  },
  {
   "cell_type": "code",
   "execution_count": 74,
   "metadata": {},
   "outputs": [
    {
     "data": {
      "text/plain": [
       "array([ 1,  8, 27])"
      ]
     },
     "execution_count": 74,
     "metadata": {},
     "output_type": "execute_result"
    }
   ],
   "source": [
    "np.power(x, 3)"
   ]
  },
  {
   "cell_type": "code",
   "execution_count": 75,
   "metadata": {},
   "outputs": [
    {
     "name": "stdout",
     "output_type": "stream",
     "text": [
      "x        = [1, 2, 4, 10]\n",
      "ln(x)    = [0.         0.69314718 1.38629436 2.30258509]\n",
      "log2(x)  = [0.         1.         2.         3.32192809]\n",
      "log10(x) = [0.         0.30103    0.60205999 1.        ]\n"
     ]
    }
   ],
   "source": [
    "x = [1, 2, 4, 10]\n",
    "print(\"x        =\", x)\n",
    "print(\"ln(x)    =\", np.log(x))\n",
    "print(\"log2(x)  =\", np.log2(x))\n",
    "print(\"log10(x) =\", np.log10(x))"
   ]
  },
  {
   "cell_type": "markdown",
   "metadata": {},
   "source": [
    "Unas transformaciones muy útiles cuando lidiamos con valores pequeños son:"
   ]
  },
  {
   "cell_type": "code",
   "execution_count": 76,
   "metadata": {},
   "outputs": [
    {
     "name": "stdout",
     "output_type": "stream",
     "text": [
      "exp(x) - 1 = [0.         0.0010005  0.01005017 0.10517092]\n",
      "log(1 + x) = [0.         0.0009995  0.00995033 0.09531018]\n"
     ]
    }
   ],
   "source": [
    "x = [0, 0.001, 0.01, 0.1]\n",
    "print(\"exp(x) - 1 =\", np.expm1(x))\n",
    "print(\"log(1 + x) =\", np.log1p(x))"
   ]
  },
  {
   "cell_type": "markdown",
   "metadata": {},
   "source": [
    "# Funciones estadísticas integradas\n",
    "\n",
    "Numpy permite calcular de forma rápida parametros estadisticos y otras aggregaciones sobre un array"
   ]
  },
  {
   "cell_type": "code",
   "execution_count": 77,
   "metadata": {},
   "outputs": [
    {
     "data": {
      "text/plain": [
       "45"
      ]
     },
     "execution_count": 77,
     "metadata": {},
     "output_type": "execute_result"
    }
   ],
   "source": [
    "# suma de todos los elementos\n",
    "x = np.arange(10)\n",
    "x.sum()"
   ]
  },
  {
   "cell_type": "code",
   "execution_count": 78,
   "metadata": {},
   "outputs": [
    {
     "name": "stdout",
     "output_type": "stream",
     "text": [
      "mean: 4.5\n",
      "std: 2.8722813232690143\n"
     ]
    }
   ],
   "source": [
    "# media y desviación estandar\n",
    "\n",
    "print('mean:', x.mean())\n",
    "print('std:', x.std())"
   ]
  },
  {
   "cell_type": "code",
   "execution_count": 79,
   "metadata": {},
   "outputs": [
    {
     "data": {
      "text/plain": [
       "4.5"
      ]
     },
     "execution_count": 79,
     "metadata": {},
     "output_type": "execute_result"
    }
   ],
   "source": [
    "# percentiles\n",
    "np.percentile(x, 50)"
   ]
  },
  {
   "cell_type": "code",
   "execution_count": 80,
   "metadata": {},
   "outputs": [
    {
     "name": "stdout",
     "output_type": "stream",
     "text": [
      "[0 1 2 3 4 5 6 7 8 9]\n",
      "[ 0  1  3  6 10 15 21 28 36 45]\n"
     ]
    }
   ],
   "source": [
    "# la suma acumulada de los valores\n",
    "print(x)\n",
    "print(x.cumsum())"
   ]
  },
  {
   "cell_type": "markdown",
   "metadata": {},
   "source": [
    "### Ejercicios\n",
    "\n",
    "Utiliza el cheatsheet disponible o busca las funcionalidades pertinentes\n",
    "\n",
    "1. Crea una matriz identidad de $4 \\times 4$\n",
    "2. Genera el array siguiente sin crear la lista\n",
    "```\n",
    "1 2 3\n",
    "4 5 6\n",
    "7 8 9\n",
    "```\n",
    "3. Genera una matrix aleatoria de $4 \\times 4 \\times 4$ con números distribuidos siguiendo una gaussiana\n",
    "4. Genear `n` intervalos entre 0 and 1 distribuidos de forma logarítmica"
   ]
  },
  {
   "cell_type": "markdown",
   "metadata": {},
   "source": [
    "# Matplotlib\n",
    "\n",
    "![img/3-numpy/matplotlib-logo.png](img/3-numpy/matplotlib-logo.png)\n",
    "\n",
    "*Matplotlib* permite graficar cosas. ```pyplot``` es una capa que dota a la librería de una sintaxis similar a la de MATLAB.\n",
    "\n",
    "Se complementa a la perfección con [seaborn](http://seaborn.pydata.org/), que nos permitirá hacer además gráficos estadísticos.\n",
    "\n",
    "En conjunto, son un duo muy potente que permite hacer cosas como ésta [código fuente](http://seaborn.pydata.org/examples/structured_heatmap.html):\n",
    "\n",
    "<img src='img/3-numpy/structured_heatmap.png' width=500>\n",
    "\n",
    "A medida que vayamos avanzando entraremos en más detalle sobre los diferentes tipos de gráficos. Por ahora, nos limitaremos a hablar sobre los básicos:\n",
    "\n",
    "- Lineas\n",
    "- Barras e Histogramas\n",
    "- Scatter plots"
   ]
  },
  {
   "cell_type": "code",
   "execution_count": 81,
   "metadata": {},
   "outputs": [],
   "source": [
    "%matplotlib inline\n",
    "\n",
    "import matplotlib.pyplot as plt\n",
    "import seaborn as sns\n",
    "\n",
    "sns.set_context('talk')"
   ]
  },
  {
   "cell_type": "markdown",
   "metadata": {},
   "source": [
    "# Line plot example\n",
    "\n",
    "Matplotlib puede crear graficos X-Y basicos a partir de arrays o listas del mismo tamaño. Si solo le diesemos una lista o array, la graficaría contra su indice.\n",
    "\n",
    "Cada vez que llamamos a plt.plot() nos sobrepone una nueva curva en la misma figura. Si quisieramos una nueva, deberíamos especificar 'plt.figure()' para crear una nueva."
   ]
  },
  {
   "cell_type": "code",
   "execution_count": 82,
   "metadata": {},
   "outputs": [
    {
     "data": {
      "image/png": "[encoded data removed]",
      "text/plain": [
       "<Figure size 432x288 with 1 Axes>"
      ]
     },
     "metadata": {
      "needs_background": "light"
     },
     "output_type": "display_data"
    }
   ],
   "source": [
    "xs = np.random.randn(5, 100)\n",
    "\n",
    "plt.title(\"Brownian Motion\")\n",
    "bms = xs.cumsum(axis=1)\n",
    "for bm in bms:\n",
    "    plt.plot(bm)"
   ]
  },
  {
   "cell_type": "markdown",
   "metadata": {},
   "source": [
    "### Subplots\n",
    "\n",
    "Muchas veces querremos tener los gráficos por separado. La forma más sencilla de generarlos es usando el comando sublplots y especificando el numero de filas y/o columnas en los que queremos que se dividan.\n",
    "\n",
    "```python\n",
    "\n",
    "fig, ax = plt.subplots(nrows=2,\n",
    "                       ncols=3,\n",
    "                       sharex=True,\n",
    "                       sharey=True)\n",
    "```\n",
    "`ax` es un np.array de (nrows, ncols) al que podremos acceder por los indices para poder \"colocar\" los plots que queramos.\n",
    "                       \n",
    "                    "
   ]
  },
  {
   "cell_type": "code",
   "execution_count": 83,
   "metadata": {},
   "outputs": [
    {
     "data": {
      "image/png": "[encoded data removed]",
      "text/plain": [
       "<Figure size 432x288 with 2 Axes>"
      ]
     },
     "metadata": {
      "needs_background": "light"
     },
     "output_type": "display_data"
    }
   ],
   "source": [
    "fig, ax = plt.subplots(nrows=2,\n",
    "                       sharex=True,\n",
    "                       sharey=True)\n",
    "for i in range(2):\n",
    "    ax[i].plot(np.random.randn(100))"
   ]
  },
  {
   "cell_type": "markdown",
   "metadata": {},
   "source": [
    "## Histogram and bar plot\n",
    "\n",
    "Aunque *matplotlib* tiene funcionalidad para histogramas, los de seaborn ofrecen una funcionaliad más completa."
   ]
  },
  {
   "cell_type": "code",
   "execution_count": 84,
   "metadata": {},
   "outputs": [
    {
     "data": {
      "image/png": "[encoded data removed]",
      "text/plain": [
       "<Figure size 432x288 with 2 Axes>"
      ]
     },
     "metadata": {
      "needs_background": "light"
     },
     "output_type": "display_data"
    }
   ],
   "source": [
    "# matplotlib\n",
    "\n",
    "data = np.random.gamma(4.5, 1.0, 10000)\n",
    "\n",
    "fig, ax = plt.subplots(ncols=2)\n",
    "\n",
    "ax[0].boxplot(data)\n",
    "ax[1].hist(data)\n",
    "\n",
    "plt.show()"
   ]
  },
  {
   "cell_type": "code",
   "execution_count": 85,
   "metadata": {},
   "outputs": [
    {
     "data": {
      "image/png": "[encoded data removed]",
      "text/plain": [
       "<Figure size 1440x864 with 3 Axes>"
      ]
     },
     "metadata": {
      "needs_background": "light"
     },
     "output_type": "display_data"
    }
   ],
   "source": [
    "# seaborn\n",
    "# matplotlib\n",
    "data = np.random.gamma(4.5, 1.0, 10000)\n",
    "\n",
    "fig, ax = plt.subplots(ncols=3, figsize=(20, 12))\n",
    "sns.boxplot(data, ax=ax[0], orient='v')\n",
    "sns.violinplot(data, ax=ax[1], orient='v')\n",
    "sns.distplot(data, ax=ax[2])\n",
    "plt.show()"
   ]
  },
  {
   "cell_type": "markdown",
   "metadata": {},
   "source": [
    "## Scatter plots\n",
    "Necesitamos dos arrays o listas del mismo tamaño para poder plotear una contra la otra"
   ]
  },
  {
   "cell_type": "code",
   "execution_count": 86,
   "metadata": {},
   "outputs": [
    {
     "data": {
      "image/png": "[encoded data removed]",
      "text/plain": [
       "<Figure size 432x288 with 1 Axes>"
      ]
     },
     "metadata": {
      "needs_background": "light"
     },
     "output_type": "display_data"
    }
   ],
   "source": [
    "x = np.random.normal(size=1000)\n",
    "y = np.random.normal(size=1000)\n",
    "\n",
    "plt.scatter(x, y, c='firebrick', alpha=0.2)\n",
    "plt.show()"
   ]
  },
  {
   "cell_type": "code",
   "execution_count": 87,
   "metadata": {},
   "outputs": [
    {
     "data": {
      "text/plain": [
       "<seaborn.axisgrid.JointGrid at 0x7f90cdf12390>"
      ]
     },
     "execution_count": 87,
     "metadata": {},
     "output_type": "execute_result"
    },
    {
     "data": {
      "image/png": "[encoded data removed]",
      "text/plain": [
       "<Figure size 432x432 with 3 Axes>"
      ]
     },
     "metadata": {
      "needs_background": "light"
     },
     "output_type": "display_data"
    }
   ],
   "source": [
    "sns.jointplot(x=x, y=y, kind='kde')"
   ]
  },
  {
   "cell_type": "code",
   "execution_count": 88,
   "metadata": {},
   "outputs": [
    {
     "name": "stdout",
     "output_type": "stream",
     "text": [
      "[ 0.          0.01257895  0.0251579   0.03773685  0.0503158   0.06289475\n",
      "  0.0754737   0.08805265  0.1006316   0.11321055  0.1257895   0.13836845\n",
      "  0.15094739  0.16352634  0.17610529  0.18868424  0.20126319  0.21384214\n",
      "  0.22642109  0.23900004  0.25157899  0.26415794  0.27673689  0.28931584\n",
      "  0.30189479  0.31447374  0.32705269  0.33963164  0.35221059  0.36478954\n",
      "  0.37736849  0.38994744  0.40252639  0.41510534  0.42768429  0.44026323\n",
      "  0.45284218  0.46542113  0.47800008  0.49057903  0.50315798  0.51573693\n",
      "  0.52831588  0.54089483  0.55347378  0.56605273  0.57863168  0.59121063\n",
      "  0.60378958  0.61636853  0.62894748  0.64152643  0.65410538  0.66668433\n",
      "  0.67926328  0.69184223  0.70442118  0.71700013  0.72957907  0.74215802\n",
      "  0.75473697  0.76731592  0.77989487  0.79247382  0.80505277  0.81763172\n",
      "  0.83021067  0.84278962  0.85536857  0.86794752  0.88052647  0.89310542\n",
      "  0.90568437  0.91826332  0.93084227  0.94342122  0.95600017  0.96857912\n",
      "  0.98115807  0.99373702  1.00631597  1.01889491  1.03147386  1.04405281\n",
      "  1.05663176  1.06921071  1.08178966  1.09436861  1.10694756  1.11952651\n",
      "  1.13210546  1.14468441  1.15726336  1.16984231  1.18242126  1.19500021\n",
      "  1.20757916  1.22015811  1.23273706  1.24531601  1.25789496  1.27047391\n",
      "  1.28305286  1.29563181  1.30821075  1.3207897   1.33336865  1.3459476\n",
      "  1.35852655  1.3711055   1.38368445  1.3962634   1.40884235  1.4214213\n",
      "  1.43400025  1.4465792   1.45915815  1.4717371   1.48431605  1.496895\n",
      "  1.50947395  1.5220529   1.53463185  1.5472108   1.55978975  1.5723687\n",
      "  1.58494765  1.59752659  1.61010554  1.62268449  1.63526344  1.64784239\n",
      "  1.66042134  1.67300029  1.68557924  1.69815819  1.71073714  1.72331609\n",
      "  1.73589504  1.74847399  1.76105294  1.77363189  1.78621084  1.79878979\n",
      "  1.81136874  1.82394769  1.83652664  1.84910559  1.86168454  1.87426349\n",
      "  1.88684243  1.89942138  1.91200033  1.92457928  1.93715823  1.94973718\n",
      "  1.96231613  1.97489508  1.98747403  2.00005298  2.01263193  2.02521088\n",
      "  2.03778983  2.05036878  2.06294773  2.07552668  2.08810563  2.10068458\n",
      "  2.11326353  2.12584248  2.13842143  2.15100038  2.16357932  2.17615827\n",
      "  2.18873722  2.20131617  2.21389512  2.22647407  2.23905302  2.25163197\n",
      "  2.26421092  2.27678987  2.28936882  2.30194777  2.31452672  2.32710567\n",
      "  2.33968462  2.35226357  2.36484252  2.37742147  2.39000042  2.40257937\n",
      "  2.41515832  2.42773727  2.44031622  2.45289516  2.46547411  2.47805306\n",
      "  2.49063201  2.50321096  2.51578991  2.52836886  2.54094781  2.55352676\n",
      "  2.56610571  2.57868466  2.59126361  2.60384256  2.61642151  2.62900046\n",
      "  2.64157941  2.65415836  2.66673731  2.67931626  2.69189521  2.70447416\n",
      "  2.71705311  2.72963206  2.742211    2.75478995  2.7673689   2.77994785\n",
      "  2.7925268   2.80510575  2.8176847   2.83026365  2.8428426   2.85542155\n",
      "  2.8680005   2.88057945  2.8931584   2.90573735  2.9183163   2.93089525\n",
      "  2.9434742   2.95605315  2.9686321   2.98121105  2.99379     3.00636895\n",
      "  3.0189479   3.03152684  3.04410579  3.05668474  3.06926369  3.08184264\n",
      "  3.09442159  3.10700054  3.11957949  3.13215844  3.14473739  3.15731634\n",
      "  3.16989529  3.18247424  3.19505319  3.20763214  3.22021109  3.23279004\n",
      "  3.24536899  3.25794794  3.27052689  3.28310584  3.29568479  3.30826374\n",
      "  3.32084268  3.33342163  3.34600058  3.35857953  3.37115848  3.38373743\n",
      "  3.39631638  3.40889533  3.42147428  3.43405323  3.44663218  3.45921113\n",
      "  3.47179008  3.48436903  3.49694798  3.50952693  3.52210588  3.53468483\n",
      "  3.54726378  3.55984273  3.57242168  3.58500063  3.59757958  3.61015852\n",
      "  3.62273747  3.63531642  3.64789537  3.66047432  3.67305327  3.68563222\n",
      "  3.69821117  3.71079012  3.72336907  3.73594802  3.74852697  3.76110592\n",
      "  3.77368487  3.78626382  3.79884277  3.81142172  3.82400067  3.83657962\n",
      "  3.84915857  3.86173752  3.87431647  3.88689542  3.89947436  3.91205331\n",
      "  3.92463226  3.93721121  3.94979016  3.96236911  3.97494806  3.98752701\n",
      "  4.00010596  4.01268491  4.02526386  4.03784281  4.05042176  4.06300071\n",
      "  4.07557966  4.08815861  4.10073756  4.11331651  4.12589546  4.13847441\n",
      "  4.15105336  4.16363231  4.17621126  4.1887902   4.20136915  4.2139481\n",
      "  4.22652705  4.239106    4.25168495  4.2642639   4.27684285  4.2894218\n",
      "  4.30200075  4.3145797   4.32715865  4.3397376   4.35231655  4.3648955\n",
      "  4.37747445  4.3900534   4.40263235  4.4152113   4.42779025  4.4403692\n",
      "  4.45294815  4.4655271   4.47810604  4.49068499  4.50326394  4.51584289\n",
      "  4.52842184  4.54100079  4.55357974  4.56615869  4.57873764  4.59131659\n",
      "  4.60389554  4.61647449  4.62905344  4.64163239  4.65421134  4.66679029\n",
      "  4.67936924  4.69194819  4.70452714  4.71710609  4.72968504  4.74226399\n",
      "  4.75484294  4.76742188  4.78000083  4.79257978  4.80515873  4.81773768\n",
      "  4.83031663  4.84289558  4.85547453  4.86805348  4.88063243  4.89321138\n",
      "  4.90579033  4.91836928  4.93094823  4.94352718  4.95610613  4.96868508\n",
      "  4.98126403  4.99384298  5.00642193  5.01900088  5.03157983  5.04415878\n",
      "  5.05673772  5.06931667  5.08189562  5.09447457  5.10705352  5.11963247\n",
      "  5.13221142  5.14479037  5.15736932  5.16994827  5.18252722  5.19510617\n",
      "  5.20768512  5.22026407  5.23284302  5.24542197  5.25800092  5.27057987\n",
      "  5.28315882  5.29573777  5.30831672  5.32089567  5.33347462  5.34605356\n",
      "  5.35863251  5.37121146  5.38379041  5.39636936  5.40894831  5.42152726\n",
      "  5.43410621  5.44668516  5.45926411  5.47184306  5.48442201  5.49700096\n",
      "  5.50957991  5.52215886  5.53473781  5.54731676  5.55989571  5.57247466\n",
      "  5.58505361  5.59763256  5.61021151  5.62279046  5.6353694   5.64794835\n",
      "  5.6605273   5.67310625  5.6856852   5.69826415  5.7108431   5.72342205\n",
      "  5.736001    5.74857995  5.7611589   5.77373785  5.7863168   5.79889575\n",
      "  5.8114747   5.82405365  5.8366326   5.84921155  5.8617905   5.87436945\n",
      "  5.8869484   5.89952735  5.9121063   5.92468524  5.93726419  5.94984314\n",
      "  5.96242209  5.97500104  5.98757999  6.00015894  6.01273789  6.02531684\n",
      "  6.03789579  6.05047474  6.06305369  6.07563264  6.08821159  6.10079054\n",
      "  6.11336949  6.12594844  6.13852739  6.15110634  6.16368529  6.17626424\n",
      "  6.18884319  6.20142214  6.21400108  6.22658003  6.23915898  6.25173793\n",
      "  6.26431688  6.27689583  6.28947478  6.30205373  6.31463268  6.32721163\n",
      "  6.33979058  6.35236953  6.36494848  6.37752743  6.39010638  6.40268533\n",
      "  6.41526428  6.42784323  6.44042218  6.45300113  6.46558008  6.47815903\n",
      "  6.49073797  6.50331692  6.51589587  6.52847482  6.54105377  6.55363272\n",
      "  6.56621167  6.57879062  6.59136957  6.60394852  6.61652747  6.62910642\n",
      "  6.64168537  6.65426432  6.66684327  6.67942222  6.69200117  6.70458012\n",
      "  6.71715907  6.72973802  6.74231697  6.75489592  6.76747487  6.78005381\n",
      "  6.79263276  6.80521171  6.81779066  6.83036961  6.84294856  6.85552751\n",
      "  6.86810646  6.88068541  6.89326436  6.90584331  6.91842226  6.93100121\n",
      "  6.94358016  6.95615911  6.96873806  6.98131701  6.99389596  7.00647491\n",
      "  7.01905386  7.03163281  7.04421176  7.05679071  7.06936965  7.0819486\n",
      "  7.09452755  7.1071065   7.11968545  7.1322644   7.14484335  7.1574223\n",
      "  7.17000125  7.1825802   7.19515915  7.2077381   7.22031705  7.232896\n",
      "  7.24547495  7.2580539   7.27063285  7.2832118   7.29579075  7.3083697\n",
      "  7.32094865  7.3335276   7.34610655  7.35868549  7.37126444  7.38384339\n",
      "  7.39642234  7.40900129  7.42158024  7.43415919  7.44673814  7.45931709\n",
      "  7.47189604  7.48447499  7.49705394  7.50963289  7.52221184  7.53479079\n",
      "  7.54736974  7.55994869  7.57252764  7.58510659  7.59768554  7.61026449\n",
      "  7.62284344  7.63542239  7.64800133  7.66058028  7.67315923  7.68573818\n",
      "  7.69831713  7.71089608  7.72347503  7.73605398  7.74863293  7.76121188\n",
      "  7.77379083  7.78636978  7.79894873  7.81152768  7.82410663  7.83668558\n",
      "  7.84926453  7.86184348  7.87442243  7.88700138  7.89958033  7.91215928\n",
      "  7.92473823  7.93731717  7.94989612  7.96247507  7.97505402  7.98763297\n",
      "  8.00021192  8.01279087  8.02536982  8.03794877  8.05052772  8.06310667\n",
      "  8.07568562  8.08826457  8.10084352  8.11342247  8.12600142  8.13858037\n",
      "  8.15115932  8.16373827  8.17631722  8.18889617  8.20147512  8.21405407\n",
      "  8.22663301  8.23921196  8.25179091  8.26436986  8.27694881  8.28952776\n",
      "  8.30210671  8.31468566  8.32726461  8.33984356  8.35242251  8.36500146\n",
      "  8.37758041  8.39015936  8.40273831  8.41531726  8.42789621  8.44047516\n",
      "  8.45305411  8.46563306  8.47821201  8.49079096  8.50336991  8.51594885\n",
      "  8.5285278   8.54110675  8.5536857   8.56626465  8.5788436   8.59142255\n",
      "  8.6040015   8.61658045  8.6291594   8.64173835  8.6543173   8.66689625\n",
      "  8.6794752   8.69205415  8.7046331   8.71721205  8.729791    8.74236995\n",
      "  8.7549489   8.76752785  8.7801068   8.79268575  8.80526469  8.81784364\n",
      "  8.83042259  8.84300154  8.85558049  8.86815944  8.88073839  8.89331734\n",
      "  8.90589629  8.91847524  8.93105419  8.94363314  8.95621209  8.96879104\n",
      "  8.98136999  8.99394894  9.00652789  9.01910684  9.03168579  9.04426474\n",
      "  9.05684369  9.06942264  9.08200159  9.09458053  9.10715948  9.11973843\n",
      "  9.13231738  9.14489633  9.15747528  9.17005423  9.18263318  9.19521213\n",
      "  9.20779108  9.22037003  9.23294898  9.24552793  9.25810688  9.27068583\n",
      "  9.28326478  9.29584373  9.30842268  9.32100163  9.33358058  9.34615953\n",
      "  9.35873848  9.37131743  9.38389637  9.39647532  9.40905427  9.42163322\n",
      "  9.43421217  9.44679112  9.45937007  9.47194902  9.48452797  9.49710692\n",
      "  9.50968587  9.52226482  9.53484377  9.54742272  9.56000167  9.57258062\n",
      "  9.58515957  9.59773852  9.61031747  9.62289642  9.63547537  9.64805432\n",
      "  9.66063327  9.67321221  9.68579116  9.69837011  9.71094906  9.72352801\n",
      "  9.73610696  9.74868591  9.76126486  9.77384381  9.78642276  9.79900171\n",
      "  9.81158066  9.82415961  9.83673856  9.84931751  9.86189646  9.87447541\n",
      "  9.88705436  9.89963331  9.91221226  9.92479121  9.93737016  9.94994911\n",
      "  9.96252805  9.975107    9.98768595 10.0002649  10.01284385 10.0254228\n",
      " 10.03800175 10.0505807  10.06315965 10.0757386  10.08831755 10.1008965\n",
      " 10.11347545 10.1260544  10.13863335 10.1512123  10.16379125 10.1763702\n",
      " 10.18894915 10.2015281  10.21410705 10.226686   10.23926495 10.25184389\n",
      " 10.26442284 10.27700179 10.28958074 10.30215969 10.31473864 10.32731759\n",
      " 10.33989654 10.35247549 10.36505444 10.37763339 10.39021234 10.40279129\n",
      " 10.41537024 10.42794919 10.44052814 10.45310709 10.46568604 10.47826499\n",
      " 10.49084394 10.50342289 10.51600184 10.52858079 10.54115973 10.55373868\n",
      " 10.56631763 10.57889658 10.59147553 10.60405448 10.61663343 10.62921238\n",
      " 10.64179133 10.65437028 10.66694923 10.67952818 10.69210713 10.70468608\n",
      " 10.71726503 10.72984398 10.74242293 10.75500188 10.76758083 10.78015978\n",
      " 10.79273873 10.80531768 10.81789662 10.83047557 10.84305452 10.85563347\n",
      " 10.86821242 10.88079137 10.89337032 10.90594927 10.91852822 10.93110717\n",
      " 10.94368612 10.95626507 10.96884402 10.98142297 10.99400192 11.00658087\n",
      " 11.01915982 11.03173877 11.04431772 11.05689667 11.06947562 11.08205457\n",
      " 11.09463352 11.10721246 11.11979141 11.13237036 11.14494931 11.15752826\n",
      " 11.17010721 11.18268616 11.19526511 11.20784406 11.22042301 11.23300196\n",
      " 11.24558091 11.25815986 11.27073881 11.28331776 11.29589671 11.30847566\n",
      " 11.32105461 11.33363356 11.34621251 11.35879146 11.37137041 11.38394936\n",
      " 11.3965283  11.40910725 11.4216862  11.43426515 11.4468441  11.45942305\n",
      " 11.472002   11.48458095 11.4971599  11.50973885 11.5223178  11.53489675\n",
      " 11.5474757  11.56005465 11.5726336  11.58521255 11.5977915  11.61037045\n",
      " 11.6229494  11.63552835 11.6481073  11.66068625 11.6732652  11.68584414\n",
      " 11.69842309 11.71100204 11.72358099 11.73615994 11.74873889 11.76131784\n",
      " 11.77389679 11.78647574 11.79905469 11.81163364 11.82421259 11.83679154\n",
      " 11.84937049 11.86194944 11.87452839 11.88710734 11.89968629 11.91226524\n",
      " 11.92484419 11.93742314 11.95000209 11.96258104 11.97515998 11.98773893\n",
      " 12.00031788 12.01289683 12.02547578 12.03805473 12.05063368 12.06321263\n",
      " 12.07579158 12.08837053 12.10094948 12.11352843 12.12610738 12.13868633\n",
      " 12.15126528 12.16384423 12.17642318 12.18900213 12.20158108 12.21416003\n",
      " 12.22673898 12.23931793 12.25189688 12.26447582 12.27705477 12.28963372\n",
      " 12.30221267 12.31479162 12.32737057 12.33994952 12.35252847 12.36510742\n",
      " 12.37768637 12.39026532 12.40284427 12.41542322 12.42800217 12.44058112\n",
      " 12.45316007 12.46573902 12.47831797 12.49089692 12.50347587 12.51605482\n",
      " 12.52863377 12.54121272 12.55379166 12.56637061]\n"
     ]
    }
   ],
   "source": [
    "## Genera un sinusoide y añadele ruido aleatorio gaussiano.\n",
    "## con media=0 y std=0.1 y grafícalo.\n",
    "\n",
    "x = np.linspace(0, 4*np.pi, 1000)\n",
    "print(x)"
   ]
  },
  {
   "cell_type": "code",
   "execution_count": 89,
   "metadata": {},
   "outputs": [
    {
     "name": "stdout",
     "output_type": "stream",
     "text": [
      "[ 0.00000000e+00  1.25786178e-02  2.51552454e-02  3.77278927e-02\n",
      "  5.02945704e-02  6.28532900e-02  7.54020646e-02  8.79389084e-02\n",
      "  1.00461838e-01  1.12968871e-01  1.25458030e-01  1.37927338e-01\n",
      "  1.50374822e-01  1.62798512e-01  1.75196443e-01  1.87566653e-01\n",
      "  1.99907185e-01  2.12216086e-01  2.24491409e-01  2.36731210e-01\n",
      "  2.48933554e-01  2.61096510e-01  2.73218154e-01  2.85296566e-01\n",
      "  2.97329837e-01  3.09316061e-01  3.21253344e-01  3.33139795e-01\n",
      "  3.44973534e-01  3.56752688e-01  3.68475395e-01  3.80139798e-01\n",
      "  3.91744053e-01  4.03286322e-01  4.14764781e-01  4.26177612e-01\n",
      "  4.37523010e-01  4.48799180e-01  4.60004337e-01  4.71136709e-01\n",
      "  4.82194534e-01  4.93176062e-01  5.04079556e-01  5.14903290e-01\n",
      "  5.25645553e-01  5.36304643e-01  5.46878875e-01  5.57366576e-01\n",
      "  5.67766086e-01  5.78075760e-01  5.88293965e-01  5.98419086e-01\n",
      "  6.08449521e-01  6.18383682e-01  6.28219997e-01  6.37956911e-01\n",
      "  6.47592882e-01  6.57126385e-01  6.66555913e-01  6.75879973e-01\n",
      "  6.85097090e-01  6.94205806e-01  7.03204679e-01  7.12092285e-01\n",
      "  7.20867219e-01  7.29528091e-01  7.38073532e-01  7.46502188e-01\n",
      "  7.54812728e-01  7.63003834e-01  7.71074213e-01  7.79022586e-01\n",
      "  7.86847695e-01  7.94548304e-01  8.02123193e-01  8.09571163e-01\n",
      "  8.16891037e-01  8.24081656e-01  8.31141882e-01  8.38070599e-01\n",
      "  8.44866709e-01  8.51529138e-01  8.58056831e-01  8.64448755e-01\n",
      "  8.70703900e-01  8.76821275e-01  8.82799913e-01  8.88638867e-01\n",
      "  8.94337213e-01  8.99894051e-01  9.05308500e-01  9.10579704e-01\n",
      "  9.15706829e-01  9.20689063e-01  9.25525619e-01  9.30215731e-01\n",
      "  9.34758657e-01  9.39153678e-01  9.43400098e-01  9.47497247e-01\n",
      "  9.51444475e-01  9.55241158e-01  9.58886695e-01  9.62380509e-01\n",
      "  9.65722048e-01  9.68910783e-01  9.71946209e-01  9.74827847e-01\n",
      "  9.77555239e-01  9.80127955e-01  9.82545587e-01  9.84807753e-01\n",
      "  9.86914095e-01  9.88864280e-01  9.90657999e-01  9.92294968e-01\n",
      "  9.93774928e-01  9.95097645e-01  9.96262911e-01  9.97270539e-01\n",
      "  9.98120372e-01  9.98812274e-01  9.99346136e-01  9.99721874e-01\n",
      "  9.99939428e-01  9.99998764e-01  9.99899872e-01  9.99642768e-01\n",
      "  9.99227492e-01  9.98654111e-01  9.97922715e-01  9.97033420e-01\n",
      "  9.95986366e-01  9.94781719e-01  9.93419671e-01  9.91900435e-01\n",
      "  9.90224253e-01  9.88391391e-01  9.86402137e-01  9.84256806e-01\n",
      "  9.81955739e-01  9.79499299e-01  9.76887875e-01  9.74121880e-01\n",
      "  9.71201752e-01  9.68127953e-01  9.64900969e-01  9.61521310e-01\n",
      "  9.57989512e-01  9.54306134e-01  9.50471757e-01  9.46486990e-01\n",
      "  9.42352462e-01  9.38068827e-01  9.33636764e-01  9.29056973e-01\n",
      "  9.24330180e-01  9.19457131e-01  9.14438599e-01  9.09275378e-01\n",
      "  9.03968283e-01  8.98518156e-01  8.92925858e-01  8.87192274e-01\n",
      "  8.81318312e-01  8.75304901e-01  8.69152992e-01  8.62863558e-01\n",
      "  8.56437596e-01  8.49876121e-01  8.43180172e-01  8.36350809e-01\n",
      "  8.29389112e-01  8.22296182e-01  8.15073141e-01  8.07721134e-01\n",
      "  8.00241323e-01  7.92634891e-01  7.84903042e-01  7.77046999e-01\n",
      "  7.69068007e-01  7.60967326e-01  7.52746238e-01  7.44406046e-01\n",
      "  7.35948067e-01  7.27373642e-01  7.18684125e-01  7.09880892e-01\n",
      "  7.00965337e-01  6.91938869e-01  6.82802917e-01  6.73558927e-01\n",
      "  6.64208361e-01  6.54752698e-01  6.45193436e-01  6.35532086e-01\n",
      "  6.25770177e-01  6.15909254e-01  6.05950876e-01  5.95896621e-01\n",
      "  5.85748078e-01  5.75506853e-01  5.65174567e-01  5.54752854e-01\n",
      "  5.44243365e-01  5.33647760e-01  5.22967718e-01  5.12204928e-01\n",
      "  5.01361093e-01  4.90437928e-01  4.79437162e-01  4.68360536e-01\n",
      "  4.57209803e-01  4.45986726e-01  4.34693081e-01  4.23330656e-01\n",
      "  4.11901248e-01  4.00406666e-01  3.88848729e-01  3.77229264e-01\n",
      "  3.65550112e-01  3.53813119e-01  3.42020143e-01  3.30173050e-01\n",
      "  3.18273715e-01  3.06324020e-01  2.94325855e-01  2.82281120e-01\n",
      "  2.70191721e-01  2.58059569e-01  2.45886586e-01  2.33674696e-01\n",
      "  2.21425832e-01  2.09141933e-01  1.96824941e-01  1.84476807e-01\n",
      "  1.72099483e-01  1.59694928e-01  1.47265105e-01  1.34811980e-01\n",
      "  1.22337524e-01  1.09843712e-01  9.73325184e-02  8.48059245e-02\n",
      "  7.22659119e-02  5.97144649e-02  4.71535694e-02  3.45852128e-02\n",
      "  2.20113839e-02  9.43407223e-03 -3.14473221e-03 -1.57230391e-02\n",
      " -2.82988581e-02 -4.08701994e-02 -5.34350740e-02 -6.59914936e-02\n",
      " -7.85374716e-02 -9.10710227e-02 -1.03590164e-01 -1.16092914e-01\n",
      " -1.28577295e-01 -1.41041332e-01 -1.53483052e-01 -1.65900487e-01\n",
      " -1.78291671e-01 -1.90654645e-01 -2.02987452e-01 -2.15288141e-01\n",
      " -2.27554765e-01 -2.39785383e-01 -2.51978061e-01 -2.64130869e-01\n",
      " -2.76241884e-01 -2.88309190e-01 -3.00330878e-01 -3.12305044e-01\n",
      " -3.24229795e-01 -3.36103245e-01 -3.47923513e-01 -3.59688730e-01\n",
      " -3.71397034e-01 -3.83046573e-01 -3.94635503e-01 -4.06161991e-01\n",
      " -4.17624212e-01 -4.29020354e-01 -4.40348613e-01 -4.51607196e-01\n",
      " -4.62794323e-01 -4.73908223e-01 -4.84947137e-01 -4.95909319e-01\n",
      " -5.06793034e-01 -5.17596560e-01 -5.28318189e-01 -5.38956222e-01\n",
      " -5.49508978e-01 -5.59974786e-01 -5.70351991e-01 -5.80638949e-01\n",
      " -5.90834035e-01 -6.00935634e-01 -6.10942149e-01 -6.20851995e-01\n",
      " -6.30663605e-01 -6.40375427e-01 -6.49985923e-01 -6.59493574e-01\n",
      " -6.68896874e-01 -6.78194336e-01 -6.87384489e-01 -6.96465878e-01\n",
      " -7.05437067e-01 -7.14296636e-01 -7.23043184e-01 -7.31675326e-01\n",
      " -7.40191697e-01 -7.48590948e-01 -7.56871752e-01 -7.65032797e-01\n",
      " -7.73072793e-01 -7.80990468e-01 -7.88784567e-01 -7.96453860e-01\n",
      " -8.03997130e-01 -8.11413186e-01 -8.18700854e-01 -8.25858981e-01\n",
      " -8.32886434e-01 -8.39782100e-01 -8.46544890e-01 -8.53173733e-01\n",
      " -8.59667580e-01 -8.66025404e-01 -8.72246198e-01 -8.78328979e-01\n",
      " -8.84272783e-01 -8.90076671e-01 -8.95739724e-01 -9.01261046e-01\n",
      " -9.06639763e-01 -9.11875024e-01 -9.16966002e-01 -9.21911890e-01\n",
      " -9.26711905e-01 -9.31365289e-01 -9.35871306e-01 -9.40229241e-01\n",
      " -9.44438405e-01 -9.48498134e-01 -9.52407783e-01 -9.56166735e-01\n",
      " -9.59774394e-01 -9.63230191e-01 -9.66533578e-01 -9.69684032e-01\n",
      " -9.72681055e-01 -9.75524172e-01 -9.78212935e-01 -9.80746917e-01\n",
      " -9.83125718e-01 -9.85348960e-01 -9.87416293e-01 -9.89327390e-01\n",
      " -9.91081947e-01 -9.92679687e-01 -9.94120357e-01 -9.95403731e-01\n",
      " -9.96529603e-01 -9.97497797e-01 -9.98308158e-01 -9.98960560e-01\n",
      " -9.99454898e-01 -9.99791094e-01 -9.99969096e-01 -9.99988874e-01\n",
      " -9.99850427e-01 -9.99553775e-01 -9.99098966e-01 -9.98486072e-01\n",
      " -9.97715189e-01 -9.96786440e-01 -9.95699972e-01 -9.94455956e-01\n",
      " -9.93054589e-01 -9.91496094e-01 -9.89780716e-01 -9.87908727e-01\n",
      " -9.85880423e-01 -9.83696126e-01 -9.81356181e-01 -9.78860957e-01\n",
      " -9.76210851e-01 -9.73406281e-01 -9.70447691e-01 -9.67335548e-01\n",
      " -9.64070347e-01 -9.60652602e-01 -9.57082856e-01 -9.53361672e-01\n",
      " -9.49489640e-01 -9.45467373e-01 -9.41295506e-01 -9.36974699e-01\n",
      " -9.32505637e-01 -9.27889027e-01 -9.23125599e-01 -9.18216107e-01\n",
      " -9.13161327e-01 -9.07962060e-01 -9.02619128e-01 -8.97133376e-01\n",
      " -8.91505673e-01 -8.85736908e-01 -8.79827996e-01 -8.73779870e-01\n",
      " -8.67593488e-01 -8.61269828e-01 -8.54809891e-01 -8.48214700e-01\n",
      " -8.41485297e-01 -8.34622748e-01 -8.27628139e-01 -8.20502575e-01\n",
      " -8.13247185e-01 -8.05863117e-01 -7.98351539e-01 -7.90713639e-01\n",
      " -7.82950626e-01 -7.75063729e-01 -7.67054195e-01 -7.58923291e-01\n",
      " -7.50672305e-01 -7.42302542e-01 -7.33815325e-01 -7.25211999e-01\n",
      " -7.16493923e-01 -7.07662479e-01 -6.98719062e-01 -6.89665089e-01\n",
      " -6.80501991e-01 -6.71231219e-01 -6.61854240e-01 -6.52372537e-01\n",
      " -6.42787610e-01 -6.33100976e-01 -6.23314168e-01 -6.13428734e-01\n",
      " -6.03446239e-01 -5.93368262e-01 -5.83196397e-01 -5.72932255e-01\n",
      " -5.62577458e-01 -5.52133646e-01 -5.41602472e-01 -5.30985600e-01\n",
      " -5.20284712e-01 -5.09501500e-01 -4.98637671e-01 -4.87694944e-01\n",
      " -4.76675049e-01 -4.65579732e-01 -4.54410746e-01 -4.43169861e-01\n",
      " -4.31858853e-01 -4.20479513e-01 -4.09033642e-01 -3.97523050e-01\n",
      " -3.85949559e-01 -3.74315000e-01 -3.62621214e-01 -3.50870051e-01\n",
      " -3.39063370e-01 -3.27203041e-01 -3.15290939e-01 -3.03328948e-01\n",
      " -2.91318963e-01 -2.79262883e-01 -2.67162616e-01 -2.55020076e-01\n",
      " -2.42837185e-01 -2.30615871e-01 -2.18358066e-01 -2.06065711e-01\n",
      " -1.93740751e-01 -1.81385136e-01 -1.69000820e-01 -1.56589764e-01\n",
      " -1.44153931e-01 -1.31695289e-01 -1.19215809e-01 -1.06717465e-01\n",
      " -9.42022363e-02 -8.16721019e-02 -6.91290446e-02 -5.65750492e-02\n",
      " -4.40121020e-02 -3.14421909e-02 -1.88673048e-02 -6.28943332e-03\n",
      "  6.28943332e-03  1.88673048e-02  3.14421909e-02  4.40121020e-02\n",
      "  5.65750492e-02  6.91290446e-02  8.16721019e-02  9.42022363e-02\n",
      "  1.06717465e-01  1.19215809e-01  1.31695289e-01  1.44153931e-01\n",
      "  1.56589764e-01  1.69000820e-01  1.81385136e-01  1.93740751e-01\n",
      "  2.06065711e-01  2.18358066e-01  2.30615871e-01  2.42837185e-01\n",
      "  2.55020076e-01  2.67162616e-01  2.79262883e-01  2.91318963e-01\n",
      "  3.03328948e-01  3.15290939e-01  3.27203041e-01  3.39063370e-01\n",
      "  3.50870051e-01  3.62621214e-01  3.74315000e-01  3.85949559e-01\n",
      "  3.97523050e-01  4.09033642e-01  4.20479513e-01  4.31858853e-01\n",
      "  4.43169861e-01  4.54410746e-01  4.65579732e-01  4.76675049e-01\n",
      "  4.87694944e-01  4.98637671e-01  5.09501500e-01  5.20284712e-01\n",
      "  5.30985600e-01  5.41602472e-01  5.52133646e-01  5.62577458e-01\n",
      "  5.72932255e-01  5.83196397e-01  5.93368262e-01  6.03446239e-01\n",
      "  6.13428734e-01  6.23314168e-01  6.33100976e-01  6.42787610e-01\n",
      "  6.52372537e-01  6.61854240e-01  6.71231219e-01  6.80501991e-01\n",
      "  6.89665089e-01  6.98719062e-01  7.07662479e-01  7.16493923e-01\n",
      "  7.25211999e-01  7.33815325e-01  7.42302542e-01  7.50672305e-01\n",
      "  7.58923291e-01  7.67054195e-01  7.75063729e-01  7.82950626e-01\n",
      "  7.90713639e-01  7.98351539e-01  8.05863117e-01  8.13247185e-01\n",
      "  8.20502575e-01  8.27628139e-01  8.34622748e-01  8.41485297e-01\n",
      "  8.48214700e-01  8.54809891e-01  8.61269828e-01  8.67593488e-01\n",
      "  8.73779870e-01  8.79827996e-01  8.85736908e-01  8.91505673e-01\n",
      "  8.97133376e-01  9.02619128e-01  9.07962060e-01  9.13161327e-01\n",
      "  9.18216107e-01  9.23125599e-01  9.27889027e-01  9.32505637e-01\n",
      "  9.36974699e-01  9.41295506e-01  9.45467373e-01  9.49489640e-01\n",
      "  9.53361672e-01  9.57082856e-01  9.60652602e-01  9.64070347e-01\n",
      "  9.67335548e-01  9.70447691e-01  9.73406281e-01  9.76210851e-01\n",
      "  9.78860957e-01  9.81356181e-01  9.83696126e-01  9.85880423e-01\n",
      "  9.87908727e-01  9.89780716e-01  9.91496094e-01  9.93054589e-01\n",
      "  9.94455956e-01  9.95699972e-01  9.96786440e-01  9.97715189e-01\n",
      "  9.98486072e-01  9.99098966e-01  9.99553775e-01  9.99850427e-01\n",
      "  9.99988874e-01  9.99969096e-01  9.99791094e-01  9.99454898e-01\n",
      "  9.98960560e-01  9.98308158e-01  9.97497797e-01  9.96529603e-01\n",
      "  9.95403731e-01  9.94120357e-01  9.92679687e-01  9.91081947e-01\n",
      "  9.89327390e-01  9.87416293e-01  9.85348960e-01  9.83125718e-01\n",
      "  9.80746917e-01  9.78212935e-01  9.75524172e-01  9.72681055e-01\n",
      "  9.69684032e-01  9.66533578e-01  9.63230191e-01  9.59774394e-01\n",
      "  9.56166735e-01  9.52407783e-01  9.48498134e-01  9.44438405e-01\n",
      "  9.40229241e-01  9.35871306e-01  9.31365289e-01  9.26711905e-01\n",
      "  9.21911890e-01  9.16966002e-01  9.11875024e-01  9.06639763e-01\n",
      "  9.01261046e-01  8.95739724e-01  8.90076671e-01  8.84272783e-01\n",
      "  8.78328979e-01  8.72246198e-01  8.66025404e-01  8.59667580e-01\n",
      "  8.53173733e-01  8.46544890e-01  8.39782100e-01  8.32886434e-01\n",
      "  8.25858981e-01  8.18700854e-01  8.11413186e-01  8.03997130e-01\n",
      "  7.96453860e-01  7.88784567e-01  7.80990468e-01  7.73072793e-01\n",
      "  7.65032797e-01  7.56871752e-01  7.48590948e-01  7.40191697e-01\n",
      "  7.31675326e-01  7.23043184e-01  7.14296636e-01  7.05437067e-01\n",
      "  6.96465878e-01  6.87384489e-01  6.78194336e-01  6.68896874e-01\n",
      "  6.59493574e-01  6.49985923e-01  6.40375427e-01  6.30663605e-01\n",
      "  6.20851995e-01  6.10942149e-01  6.00935634e-01  5.90834035e-01\n",
      "  5.80638949e-01  5.70351991e-01  5.59974786e-01  5.49508978e-01\n",
      "  5.38956222e-01  5.28318189e-01  5.17596560e-01  5.06793034e-01\n",
      "  4.95909319e-01  4.84947137e-01  4.73908223e-01  4.62794323e-01\n",
      "  4.51607196e-01  4.40348613e-01  4.29020354e-01  4.17624212e-01\n",
      "  4.06161991e-01  3.94635503e-01  3.83046573e-01  3.71397034e-01\n",
      "  3.59688730e-01  3.47923513e-01  3.36103245e-01  3.24229795e-01\n",
      "  3.12305044e-01  3.00330878e-01  2.88309190e-01  2.76241884e-01\n",
      "  2.64130869e-01  2.51978061e-01  2.39785383e-01  2.27554765e-01\n",
      "  2.15288141e-01  2.02987452e-01  1.90654645e-01  1.78291671e-01\n",
      "  1.65900487e-01  1.53483052e-01  1.41041332e-01  1.28577295e-01\n",
      "  1.16092914e-01  1.03590164e-01  9.10710227e-02  7.85374716e-02\n",
      "  6.59914936e-02  5.34350740e-02  4.08701994e-02  2.82988581e-02\n",
      "  1.57230391e-02  3.14473221e-03 -9.43407223e-03 -2.20113839e-02\n",
      " -3.45852128e-02 -4.71535694e-02 -5.97144649e-02 -7.22659119e-02\n",
      " -8.48059245e-02 -9.73325184e-02 -1.09843712e-01 -1.22337524e-01\n",
      " -1.34811980e-01 -1.47265105e-01 -1.59694928e-01 -1.72099483e-01\n",
      " -1.84476807e-01 -1.96824941e-01 -2.09141933e-01 -2.21425832e-01\n",
      " -2.33674696e-01 -2.45886586e-01 -2.58059569e-01 -2.70191721e-01\n",
      " -2.82281120e-01 -2.94325855e-01 -3.06324020e-01 -3.18273715e-01\n",
      " -3.30173050e-01 -3.42020143e-01 -3.53813119e-01 -3.65550112e-01\n",
      " -3.77229264e-01 -3.88848729e-01 -4.00406666e-01 -4.11901248e-01\n",
      " -4.23330656e-01 -4.34693081e-01 -4.45986726e-01 -4.57209803e-01\n",
      " -4.68360536e-01 -4.79437162e-01 -4.90437928e-01 -5.01361093e-01\n",
      " -5.12204928e-01 -5.22967718e-01 -5.33647760e-01 -5.44243365e-01\n",
      " -5.54752854e-01 -5.65174567e-01 -5.75506853e-01 -5.85748078e-01\n",
      " -5.95896621e-01 -6.05950876e-01 -6.15909254e-01 -6.25770177e-01\n",
      " -6.35532086e-01 -6.45193436e-01 -6.54752698e-01 -6.64208361e-01\n",
      " -6.73558927e-01 -6.82802917e-01 -6.91938869e-01 -7.00965337e-01\n",
      " -7.09880892e-01 -7.18684125e-01 -7.27373642e-01 -7.35948067e-01\n",
      " -7.44406046e-01 -7.52746238e-01 -7.60967326e-01 -7.69068007e-01\n",
      " -7.77046999e-01 -7.84903042e-01 -7.92634891e-01 -8.00241323e-01\n",
      " -8.07721134e-01 -8.15073141e-01 -8.22296182e-01 -8.29389112e-01\n",
      " -8.36350809e-01 -8.43180172e-01 -8.49876121e-01 -8.56437596e-01\n",
      " -8.62863558e-01 -8.69152992e-01 -8.75304901e-01 -8.81318312e-01\n",
      " -8.87192274e-01 -8.92925858e-01 -8.98518156e-01 -9.03968283e-01\n",
      " -9.09275378e-01 -9.14438599e-01 -9.19457131e-01 -9.24330180e-01\n",
      " -9.29056973e-01 -9.33636764e-01 -9.38068827e-01 -9.42352462e-01\n",
      " -9.46486990e-01 -9.50471757e-01 -9.54306134e-01 -9.57989512e-01\n",
      " -9.61521310e-01 -9.64900969e-01 -9.68127953e-01 -9.71201752e-01\n",
      " -9.74121880e-01 -9.76887875e-01 -9.79499299e-01 -9.81955739e-01\n",
      " -9.84256806e-01 -9.86402137e-01 -9.88391391e-01 -9.90224253e-01\n",
      " -9.91900435e-01 -9.93419671e-01 -9.94781719e-01 -9.95986366e-01\n",
      " -9.97033420e-01 -9.97922715e-01 -9.98654111e-01 -9.99227492e-01\n",
      " -9.99642768e-01 -9.99899872e-01 -9.99998764e-01 -9.99939428e-01\n",
      " -9.99721874e-01 -9.99346136e-01 -9.98812274e-01 -9.98120372e-01\n",
      " -9.97270539e-01 -9.96262911e-01 -9.95097645e-01 -9.93774928e-01\n",
      " -9.92294968e-01 -9.90657999e-01 -9.88864280e-01 -9.86914095e-01\n",
      " -9.84807753e-01 -9.82545587e-01 -9.80127955e-01 -9.77555239e-01\n",
      " -9.74827847e-01 -9.71946209e-01 -9.68910783e-01 -9.65722048e-01\n",
      " -9.62380509e-01 -9.58886695e-01 -9.55241158e-01 -9.51444475e-01\n",
      " -9.47497247e-01 -9.43400098e-01 -9.39153678e-01 -9.34758657e-01\n",
      " -9.30215731e-01 -9.25525619e-01 -9.20689063e-01 -9.15706829e-01\n",
      " -9.10579704e-01 -9.05308500e-01 -8.99894051e-01 -8.94337213e-01\n",
      " -8.88638867e-01 -8.82799913e-01 -8.76821275e-01 -8.70703900e-01\n",
      " -8.64448755e-01 -8.58056831e-01 -8.51529138e-01 -8.44866709e-01\n",
      " -8.38070599e-01 -8.31141882e-01 -8.24081656e-01 -8.16891037e-01\n",
      " -8.09571163e-01 -8.02123193e-01 -7.94548304e-01 -7.86847695e-01\n",
      " -7.79022586e-01 -7.71074213e-01 -7.63003834e-01 -7.54812728e-01\n",
      " -7.46502188e-01 -7.38073532e-01 -7.29528091e-01 -7.20867219e-01\n",
      " -7.12092285e-01 -7.03204679e-01 -6.94205806e-01 -6.85097090e-01\n",
      " -6.75879973e-01 -6.66555913e-01 -6.57126385e-01 -6.47592882e-01\n",
      " -6.37956911e-01 -6.28219997e-01 -6.18383682e-01 -6.08449521e-01\n",
      " -5.98419086e-01 -5.88293965e-01 -5.78075760e-01 -5.67766086e-01\n",
      " -5.57366576e-01 -5.46878875e-01 -5.36304643e-01 -5.25645553e-01\n",
      " -5.14903290e-01 -5.04079556e-01 -4.93176062e-01 -4.82194534e-01\n",
      " -4.71136709e-01 -4.60004337e-01 -4.48799180e-01 -4.37523010e-01\n",
      " -4.26177612e-01 -4.14764781e-01 -4.03286322e-01 -3.91744053e-01\n",
      " -3.80139798e-01 -3.68475395e-01 -3.56752688e-01 -3.44973534e-01\n",
      " -3.33139795e-01 -3.21253344e-01 -3.09316061e-01 -2.97329837e-01\n",
      " -2.85296566e-01 -2.73218154e-01 -2.61096510e-01 -2.48933554e-01\n",
      " -2.36731210e-01 -2.24491409e-01 -2.12216086e-01 -1.99907185e-01\n",
      " -1.87566653e-01 -1.75196443e-01 -1.62798512e-01 -1.50374822e-01\n",
      " -1.37927338e-01 -1.25458030e-01 -1.12968871e-01 -1.00461838e-01\n",
      " -8.79389084e-02 -7.54020646e-02 -6.28532900e-02 -5.02945704e-02\n",
      " -3.77278927e-02 -2.51552454e-02 -1.25786178e-02 -4.89858720e-16]\n"
     ]
    }
   ],
   "source": [
    "y_real = np.sin(x)\n",
    "print(y_real)"
   ]
  },
  {
   "cell_type": "code",
   "execution_count": 90,
   "metadata": {},
   "outputs": [],
   "source": [
    "noise = np.random.normal(0, 0.1, size=1000)"
   ]
  },
  {
   "cell_type": "code",
   "execution_count": 91,
   "metadata": {},
   "outputs": [],
   "source": [
    "y_noise = y_real + noise"
   ]
  },
  {
   "cell_type": "code",
   "execution_count": 92,
   "metadata": {},
   "outputs": [
    {
     "data": {
      "text/plain": [
       "<matplotlib.collections.PathCollection at 0x7f90cd590160>"
      ]
     },
     "execution_count": 92,
     "metadata": {},
     "output_type": "execute_result"
    },
    {
     "data": {
      "image/png": "[encoded data removed]",
      "text/plain": [
       "<Figure size 432x288 with 1 Axes>"
      ]
     },
     "metadata": {
      "needs_background": "light"
     },
     "output_type": "display_data"
    }
   ],
   "source": [
    "plt.scatter(x, y_noise)"
   ]
  }
 ],
 "metadata": {
  "anaconda-cloud": {},
  "kernelspec": {
   "display_name": "Python 3",
   "language": "python",
   "name": "python3"
  },
  "language_info": {
   "codemirror_mode": {
    "name": "ipython",
    "version": 3
   },
   "file_extension": ".py",
   "mimetype": "text/x-python",
   "name": "python",
   "nbconvert_exporter": "python",
   "pygments_lexer": "ipython3",
   "version": "3.7.3"
  }
 },
 "nbformat": 4,
 "nbformat_minor": 4
}
