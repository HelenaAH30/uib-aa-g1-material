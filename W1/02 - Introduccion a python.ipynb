{
 "cells": [
  {
   "cell_type": "markdown",
   "metadata": {},
   "source": [
    "# The zen of python"
   ]
  },
  {
   "cell_type": "markdown",
   "metadata": {},
   "source": [
    "Python tiene una especie de descripción zen de sus principios de diseño para facilitar la legibilidad. Puedes acceder a él ejecutando:\n",
    "```python\n",
    "import this\n",
    "```\n",
    "en una celda de un notebook python o en la linea de comandos del interprete.\n",
    "\n",
    "Siguiendo este pequeño decalogo escribiremos código de la forma más \"pythonica\" posible."
   ]
  },
  {
   "cell_type": "code",
   "execution_count": null,
   "metadata": {},
   "outputs": [],
   "source": [
    "import this"
   ]
  },
  {
   "cell_type": "markdown",
   "metadata": {},
   "source": [
    "## Primeros pasos"
   ]
  },
  {
   "cell_type": "markdown",
   "metadata": {},
   "source": [
    "### Formato\n",
    "En Python el indentado no es una cuestión meramente de estilo, es un requisito para que el codigo funcione.\n",
    "\n",
    "Mediante la indentación con **espacios**, en python definimos bloques de código así que se debe tener cuidado en como se estructura el código.\n",
    "\n",
    "Esto ayuda a mantener el código limpio y legible.\n",
    "\n",
    "En los notebooks el indentado por espacios se consigue automáticamente aprentando sobre la tecla de \"tabulación\"."
   ]
  },
  {
   "cell_type": "code",
   "execution_count": null,
   "metadata": {},
   "outputs": [],
   "source": [
    "for i in [1, 2, 3]:\n",
    "    print(i) # 4 espacios"
   ]
  },
  {
   "cell_type": "markdown",
   "metadata": {},
   "source": [
    "En caso de querer quebrar la linea, podemos especificar que el codigo continua en la siguiente linea con un \\\\."
   ]
  },
  {
   "cell_type": "code",
   "execution_count": null,
   "metadata": {},
   "outputs": [],
   "source": [
    "2 + \\\n",
    "3"
   ]
  },
  {
   "cell_type": "markdown",
   "metadata": {},
   "source": [
    "## Modulos\n",
    "\n",
    "Ciertas características de python no vienen cargadas por defecto. Para poder utilizar funcionalidades avanzadas, cómo por ejemplo paquetes de estadística o de gráficos, debemos importarlos.\n",
    "\n",
    "Por ejemplo, para importar ```pandas``` bajo el pseudonimo ```pd```, ejecutaremos:\n",
    "\n",
    "```python\n",
    "import pandas as pd\n",
    "```\n",
    "\n",
    "Si sólo queremos cargar alguna funcionalidad específica de un módulo, por ejemplo un modelo de machine learning, deberemos ejecutar:\n",
    "\n",
    "```python\n",
    "from sklearn.linear_model import LinearRegression\n",
    "```"
   ]
  },
  {
   "cell_type": "code",
   "execution_count": null,
   "metadata": {},
   "outputs": [],
   "source": [
    "# Importa aquí el modulo que permite crear gráficos y nombralo bajo el alias plt\n"
   ]
  },
  {
   "cell_type": "markdown",
   "metadata": {},
   "source": [
    "## Funciones\n",
    "Una función toma cero o más inputs para devolver un valor. Para definir una función en python, usamos la notación:\n",
    "```python\n",
    "def suma(input1=1, input2=2):\n",
    "    \"\"\"\n",
    "    Información sobre que hace la función.\n",
    "    \"\"\"\n",
    "    resultado = input1 + input2\n",
    "    return resultado\n",
    "    \n",
    "suma()\n",
    "3\n",
    "suma(2, 4)\n",
    "6\n",
    "```\n",
    "Al asignar valores a los argumentos, le estamos diciendo a la función que si no le especificamos unos valores coja esos por defecto.\n",
    "       "
   ]
  },
  {
   "cell_type": "code",
   "execution_count": null,
   "metadata": {},
   "outputs": [],
   "source": [
    "# Crea una función que dado dos números los divida\n",
    "\n",
    "def divide(a=1, b=2):\n",
    "    \"\"\"\n",
    "    Esta función me devuelve la división entre a y b\n",
    "    \"\"\"\n",
    "    ### your code goes here\n",
    "    return resultado"
   ]
  },
  {
   "cell_type": "code",
   "execution_count": null,
   "metadata": {},
   "outputs": [],
   "source": [
    "c = divide(1, 7)\n",
    "\n",
    "print(c)"
   ]
  },
  {
   "cell_type": "code",
   "execution_count": null,
   "metadata": {},
   "outputs": [],
   "source": [
    "d = divide(76, 0)"
   ]
  },
  {
   "cell_type": "markdown",
   "metadata": {},
   "source": [
    "## Excepciones\n",
    "Cuando algo no va bien, se levanta una excepción que hace que si no la gestionamos bien el programa se detenga. Para poder gestionarlos, podemos usar ```try``` y ```except```. Nos permitirá intentar evaluar un trozo de código y si no funciona, devolvernos una alerta o ejecutar otra parte de codigo.\n",
    "\n",
    "Por ejemplo, si creamos una función que calcula la raíz cuadrada de un número, \n",
    "podríamos evitar que el programa se \"rompiera\" si le damos un número negativo:\n",
    "\n",
    "```python\n",
    "try:\n",
    "    raiz_cuadrada(-1)\n",
    "except:\n",
    "    print(\"No es posible calcular la raíz cuadrada de un número negativo en el plano real\")\n",
    "```\n"
   ]
  },
  {
   "cell_type": "code",
   "execution_count": null,
   "metadata": {},
   "outputs": [],
   "source": [
    "# Modifica la función anterior para que no se rompa al dividir un número por cero\n",
    "\n",
    "def divide_save(a, b):\n",
    "    \"\"\"\n",
    "    Devuelve el cociente de a entre b, y si b es cero, levanta una excepción.\n",
    "    \"\"\"\n",
    "    ### your code goes here\n",
    "\n",
    "    return resultado\n",
    "    "
   ]
  },
  {
   "cell_type": "code",
   "execution_count": null,
   "metadata": {},
   "outputs": [],
   "source": [
    "divide_save(1, 0)"
   ]
  },
  {
   "cell_type": "markdown",
   "metadata": {},
   "source": [
    "# Listas\n",
    "La estructura de datos más fundamental. Es una colección ordenada de elementos, que no tienen por que ser del mismo tipo."
   ]
  },
  {
   "cell_type": "code",
   "execution_count": null,
   "metadata": {},
   "outputs": [],
   "source": [
    "lista_de_enteros = [1, 2, 3]\n",
    "\n",
    "# longitud de una lista\n"
   ]
  },
  {
   "cell_type": "code",
   "execution_count": null,
   "metadata": {},
   "outputs": [],
   "source": [
    "lista_mixta = [1, 2.3, 4.56, 'Hola']"
   ]
  },
  {
   "cell_type": "markdown",
   "metadata": {},
   "source": [
    "Para acceder o modificar el elemento \"n\" de una lista podemos acceder a él vía una notación con braquets:\n",
    "\n",
    "```python\n",
    "a = [1, 2, 3, 4]\n",
    "\n",
    "# primer elemento (indice 0)\n",
    "a[0]\n",
    "1\n",
    "\n",
    "#segundo elemento\n",
    "a[1]\n",
    "2\n",
    "\n",
    "# Desde el final, último elemento\n",
    "a[-1]\n",
    "4\n",
    "\n",
    "# Desde el final, penúltimo elemento\n",
    "a[-2]\n",
    "4\n",
    "```"
   ]
  },
  {
   "cell_type": "code",
   "execution_count": null,
   "metadata": {},
   "outputs": [],
   "source": [
    "# Accede al elemento de la lista_mixta que contiene 'Hola'\n",
    "\n"
   ]
  },
  {
   "cell_type": "markdown",
   "metadata": {},
   "source": [
    "Podemos utilizar la notación de los braquets para hacer \"slices\" de las listas:\n",
    "\n",
    "```python\n",
    "a = [0, 1, 2, 3, 4, 5, 6]\n",
    "\n",
    "# los tres primeros (indice no incluido)\n",
    "a[:3]\n",
    "[0, 1, 2]\n",
    "\n",
    "# del cuarto al ultimo (indice incluido)\n",
    "a[3:]\n",
    "[3, 4, 5, 6]\n",
    "\n",
    "# del cuarto al ultimo empezando por el final (indice incluido)\n",
    "a[-4:]\n",
    "[3, 4, 5, 6]\n",
    "```"
   ]
  },
  {
   "cell_type": "code",
   "execution_count": null,
   "metadata": {},
   "outputs": [],
   "source": [
    "# Crea una lista a partir de lista_mixta que no contega la palabra 'Hola'\n",
    "# y asignala a una nueva variable llamada lista_nueva\n",
    "\n"
   ]
  },
  {
   "cell_type": "markdown",
   "metadata": {},
   "source": [
    "El operador ```in``` permite comprobar si un elemento esta dentro de una lista\n",
    "\n",
    "```python\n",
    "4 in [3, 4, 5, 6]\n",
    "True\n",
    "0 in [3, 4, 5, 6]\n",
    "False\n",
    "```"
   ]
  },
  {
   "cell_type": "code",
   "execution_count": null,
   "metadata": {},
   "outputs": [],
   "source": [
    "# Comprueba que 'Hola' no está en lista_nueva\n"
   ]
  },
  {
   "cell_type": "markdown",
   "metadata": {},
   "source": [
    "Podemos añadir elementos al final de las listas mediante el nombre de la lista y el sufijo ```nombre.append()```. Tambiém se pueden concatenar usando la expresión ```+```.\n",
    "\n",
    "```python\n",
    "\n",
    "a = [1, 2, 3]\n",
    "b = [4, 5, 6]\n",
    "c = a+b\n",
    "print(c)\n",
    "[1, 2, 3, 4, 5, 6]\n",
    "\n",
    "a.append(4)\n",
    "print(a)\n",
    "[1, 2, 3, 4]\n",
    "``` \n",
    "\n"
   ]
  },
  {
   "cell_type": "code",
   "execution_count": null,
   "metadata": {},
   "outputs": [],
   "source": [
    "# Concatena lista_nueva y lista_de_enteros y guardala en una variable nueva\n",
    "# y añadele el valor 'toto' al final\n",
    "\n"
   ]
  },
  {
   "cell_type": "markdown",
   "metadata": {},
   "source": [
    "# Tuplas\n",
    "\n",
    "Las primas-hermanas immutables de las listas. Podemos hacer lo mismo que a las listas menos modificarlas. Se usan sobre todo para devolver múltiples valores en  las funciones.\n",
    "\n",
    "```python\n",
    "mi_tupla = (2,3)\n",
    "a = mi_tupla[0]\n",
    "print(a)\n",
    "2\n",
    "```"
   ]
  },
  {
   "cell_type": "code",
   "execution_count": null,
   "metadata": {},
   "outputs": [],
   "source": [
    "## Crea una tupla \n",
    "mi_tupla =  ##\n"
   ]
  },
  {
   "cell_type": "code",
   "execution_count": null,
   "metadata": {},
   "outputs": [],
   "source": [
    "## Intenta modificar un de sus valores"
   ]
  },
  {
   "cell_type": "code",
   "execution_count": null,
   "metadata": {},
   "outputs": [],
   "source": [
    "## Crea una función que devuelva la suma y el producto de dos numeros.\n",
    "\n",
    "def suma_y_producto(a, b):\n",
    "    \"\"\"\n",
    "    Devuelve la suma y el producto\n",
    "    \"\"\"\n",
    "    ## your code goes here\n",
    "\n",
    "    return suma, producto\n",
    "\n",
    "## Asigna a una variable el retorno de la funcion\n",
    "\n",
    "\n",
    "## Asigna a dos variables el retorno de la funcion\n",
    "\n",
    "\n",
    "\n",
    "\n",
    "print(resultado)\n",
    "\n",
    "print(suma_2_3)\n",
    "\n",
    "print(producto_2_3)"
   ]
  },
  {
   "cell_type": "markdown",
   "metadata": {},
   "source": [
    "# Diccionarios\n",
    "Los diccionarios son una manera limpia de asignar un valor a una clave. Ello nos permite recuperar un valor de forma rapida dada la clave. Se crean usando los curly brackets.\n",
    "\n",
    "```python\n",
    "mi_diccionario = {}\n",
    "\n",
    "# Creo la clave contacto y le asigno un nombre\n",
    "mi_diccionario['contacto'] = 'Juan'\n",
    "mi_diccionario['telefono'] = 123456\n",
    "mi_diccionario['edad'] = 30\n",
    "\n",
    "# accedo al valor de la clave 'telefono'\n",
    "print(mi_diccionario['telefono'])\n",
    "123456\n",
    "```"
   ]
  },
  {
   "cell_type": "code",
   "execution_count": null,
   "metadata": {},
   "outputs": [],
   "source": [
    "notas = {'Pedro': 9, 'Maria':10, 'Luis':8.5}\n",
    "\n",
    "# que nota ha sacado María ?\n",
    "\n",
    "# notas['Maria']\n",
    "\n",
    "# Qué pasa si intentamos acceder a un nombre que no existe?\n",
    "\n",
    "# notas['juan']\n",
    "\n",
    "# Prueba ahora con notas.get('pepe'), ves alguna diferencia?\n",
    "\n",
    "print(notas.get('pepe'))"
   ]
  },
  {
   "cell_type": "markdown",
   "metadata": {},
   "source": [
    "Podemos acceder a los diferentes elementos de un diccionario usando\n",
    "\n",
    "```python\n",
    "mi_diccionario.keys() # lista de claves\n",
    "mi_diccionario.values() # lista de valores\n",
    "mi_diccionario.items() # Lista de tuplas con (clave, valor)\n",
    "```"
   ]
  },
  {
   "cell_type": "code",
   "execution_count": null,
   "metadata": {},
   "outputs": [],
   "source": [
    "# obten todos las clave del diccionario: notas\n"
   ]
  },
  {
   "cell_type": "markdown",
   "metadata": {},
   "source": [
    "# Control flow"
   ]
  },
  {
   "cell_type": "markdown",
   "metadata": {},
   "source": [
    "### Condicional\n",
    "Para ejecutar una acción condicionada a ciertas condiciones, podemos crear una estructura if:\n",
    "\n",
    "```python\n",
    "if a > 1:\n",
    "    print(\"a es mayor que 1\"\"\")\n",
    "elif a == 1:\n",
    "    ## abreviatura de else if\n",
    "    print(\"a es igual a 1\"\"\")\n",
    "else:\n",
    "    ## cuando las otras ramas fallan\n",
    "    print(\"a es menor que 1\"\"\")\n",
    "```\n",
    "\n",
    "Cuando solo hay dos opciones, se puede escribir el condicional en una sola linea:\n",
    "\n",
    "```python\n",
    "par = True if x % 2 == 0 else False\n",
    "```\n"
   ]
  },
  {
   "cell_type": "code",
   "execution_count": null,
   "metadata": {},
   "outputs": [],
   "source": [
    "## Crea una función que devuelva la raiz cuadrada de un numero\n",
    "## y si es negativo que devuelva 0\n",
    "\n",
    "from math import sqrt\n",
    "\n",
    "def raiz_cuadrada(a):\n",
    "    \"\"\"\n",
    "    Devulve la raiz cuadrad\n",
    "    \"\"\"\n",
    "    ### your code goes here\n",
    "    \n",
    "    return raiz_a\n",
    "\n"
   ]
  },
  {
   "cell_type": "code",
   "execution_count": null,
   "metadata": {},
   "outputs": [],
   "source": [
    "raiz_cuadrada(20)"
   ]
  },
  {
   "cell_type": "markdown",
   "metadata": {},
   "source": [
    "### Bucles\n",
    "Cuando se quieres ejecutar un bloque de código un número repetido de veces podemos usar el comando \"for ... in ...:\". Este comando itera sobre los miembros de una lista en orden ejecutando el bloque de forma secuencial.\n",
    "\n",
    "```python\n",
    "for i in range(3):\n",
    "    print(i)\n",
    "0\n",
    "1\n",
    "2\n",
    "```"
   ]
  },
  {
   "cell_type": "code",
   "execution_count": null,
   "metadata": {},
   "outputs": [],
   "source": [
    "## Inicializa una lista vacia\n",
    "lista_3 = ##\n",
    "\n",
    "## Crea un bucle que vaya desde el 0 al 10 y si es un\n",
    "## número par lo añada a la lista anterior multiplicado por 2\n",
    "\n",
    "for elemento in ###:\n",
    "    if elemento % 2 == 0:\n",
    "        lista_3.append(2*elemento)\n",
    "    else:\n",
    "        continue\n",
    "\n",
    "## Haz un print de la longitud de la lista resultante\n",
    "\n",
    "print(lista_3)"
   ]
  },
  {
   "cell_type": "markdown",
   "metadata": {},
   "source": [
    "## List comprehensions\n",
    "En muchas ocasiones, tendremos que generar una lista de elementos en base a otra lista de elementos y aplicarle alguna transformación. Iterar, filtrar y procesar. Eso es exactamente lo que hemos hecho en el ejemplo anterior.\n",
    "\n",
    "Otra forma, más eficiente, de conseguir el mismo resultado en python es vía las *list comprehensions*. Todo el proceso anterior se puede conseguir escribiento:\n",
    "\n",
    "```python\n",
    "doble_par = [2*x for x in range(11) if x % 2 == 0]\n",
    "```"
   ]
  },
  {
   "cell_type": "code",
   "execution_count": null,
   "metadata": {},
   "outputs": [],
   "source": [
    "## Simplifica el siguiente proceso usando una list comprehension\n",
    "\n",
    "sentence = \"the quick brown fox jumps over the lazy dog\"\n",
    "words = ### separa la frase en palabras\n",
    "word_lengths = []\n",
    "for word in words:\n",
    "      if word != \"the\":\n",
    "            word_lengths.append(len(word))\n",
    "print(word_lengths)"
   ]
  }
 ],
 "metadata": {
  "kernelspec": {
   "display_name": "Python 3",
   "language": "python",
   "name": "python3"
  },
  "language_info": {
   "codemirror_mode": {
    "name": "ipython",
    "version": 3
   },
   "file_extension": ".py",
   "mimetype": "text/x-python",
   "name": "python",
   "nbconvert_exporter": "python",
   "pygments_lexer": "ipython3",
   "version": "3.7.3"
  }
 },
 "nbformat": 4,
 "nbformat_minor": 4
}
